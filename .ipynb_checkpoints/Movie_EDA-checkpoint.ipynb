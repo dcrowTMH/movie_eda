{
 "cells": [
  {
   "cell_type": "code",
   "execution_count": 1,
   "id": "3473cda3",
   "metadata": {},
   "outputs": [],
   "source": [
    "# simple setting for background\n",
    "\n",
    "%matplotlib inline\n",
    "import numpy as np\n",
    "import seaborn as sns\n",
    "from IPython.display import HTML, display\n",
    "import sklearn\n",
    "import matplotlib.pyplot as plt\n",
    "import pandas as pd\n",
    "import warnings # Hide the warning for sns.distplot\n",
    "warnings.filterwarnings('ignore') # Not suggest since it may ignore critical warning"
   ]
  },
  {
   "cell_type": "code",
   "execution_count": 2,
   "id": "4dacebaf",
   "metadata": {},
   "outputs": [],
   "source": [
    "# Data Loading\n",
    "df_annual_sales = pd.read_csv('Data/AnnualTicketSales.csv')\n",
    "df_highest_grossers = pd.read_csv('Data/HighestGrossers.csv')\n",
    "df_popular_type = pd.read_csv('Data/PopularCreativeTypes.csv')\n",
    "df_top_dist = pd.read_csv('Data/TopDistributors.csv')\n",
    "df_top_gen = pd.read_csv('Data/TopGenres.csv')\n",
    "df_top_rat = pd.read_csv('Data/TopGrossingRatings.csv')\n",
    "df_top_sour = pd.read_csv('Data/TopGrossingSources.csv')\n",
    "df_top_meth = pd.read_csv('Data/TopProductionMethods.csv')\n",
    "df_wide_release = pd.read_csv('Data/WideReleasesCount.csv')"
   ]
  },
  {
   "cell_type": "markdown",
   "id": "27826b82",
   "metadata": {},
   "source": [
    "#### Function"
   ]
  },
  {
   "cell_type": "code",
   "execution_count": 3,
   "id": "e14fe5e8",
   "metadata": {},
   "outputs": [],
   "source": [
    "# Remove the sign\n",
    "# Need to be modified with exception for type changing\n",
    "def sign_elimination(df,*sign):\n",
    "    for i in range(len(sign)):\n",
    "        for j in df.columns:\n",
    "            if df[j].dtypes == 'object':\n",
    "                df[j] = df[j].str.replace(sign[i],'')"
   ]
  },
  {
   "cell_type": "markdown",
   "id": "4d2b6893",
   "metadata": {},
   "source": [
    "#### Data Cleaning"
   ]
  },
  {
   "cell_type": "markdown",
   "id": "870c2a3e",
   "metadata": {},
   "source": [
    "##### AnnualTicketSales.csv"
   ]
  },
  {
   "cell_type": "code",
   "execution_count": 4,
   "id": "ac69ec49",
   "metadata": {},
   "outputs": [
    {
     "data": {
      "text/plain": [
       "YEAR                                     int64\n",
       "TICKETS SOLD                            object\n",
       "TOTAL BOX OFFICE                        object\n",
       "TOTAL INFLATION ADJUSTED BOX OFFICE     object\n",
       "AVERAGE TICKET PRICE                    object\n",
       "Unnamed: 5                             float64\n",
       "dtype: object"
      ]
     },
     "execution_count": 4,
     "metadata": {},
     "output_type": "execute_result"
    }
   ],
   "source": [
    "# Checking the data types and see which columns needed to be modified such as empty column and dollar sign/ comma\n",
    "df_annual_sales.dtypes"
   ]
  },
  {
   "cell_type": "code",
   "execution_count": 5,
   "id": "060dfdb7",
   "metadata": {},
   "outputs": [],
   "source": [
    "# Remove the empty column\n",
    "df_annual_sales.drop('Unnamed: 5', axis = 1, inplace = True)"
   ]
  },
  {
   "cell_type": "code",
   "execution_count": 6,
   "id": "04c9516c",
   "metadata": {},
   "outputs": [],
   "source": [
    "# Replace the comma and dollar sign between the number\n",
    "sign_elimination(df_annual_sales, ',','$')"
   ]
  },
  {
   "cell_type": "code",
   "execution_count": 7,
   "id": "c26c0d35",
   "metadata": {},
   "outputs": [
    {
     "data": {
      "text/html": [
       "<div>\n",
       "<style scoped>\n",
       "    .dataframe tbody tr th:only-of-type {\n",
       "        vertical-align: middle;\n",
       "    }\n",
       "\n",
       "    .dataframe tbody tr th {\n",
       "        vertical-align: top;\n",
       "    }\n",
       "\n",
       "    .dataframe thead th {\n",
       "        text-align: right;\n",
       "    }\n",
       "</style>\n",
       "<table border=\"1\" class=\"dataframe\">\n",
       "  <thead>\n",
       "    <tr style=\"text-align: right;\">\n",
       "      <th></th>\n",
       "      <th>YEAR</th>\n",
       "      <th>TICKETS SOLD</th>\n",
       "      <th>TOTAL BOX OFFICE</th>\n",
       "      <th>TOTAL INFLATION ADJUSTED BOX OFFICE</th>\n",
       "      <th>AVERAGE TICKET PRICE</th>\n",
       "    </tr>\n",
       "  </thead>\n",
       "  <tbody>\n",
       "    <tr>\n",
       "      <th>0</th>\n",
       "      <td>2021</td>\n",
       "      <td>423774881</td>\n",
       "      <td>3881777912</td>\n",
       "      <td>3881777912</td>\n",
       "      <td>9.16</td>\n",
       "    </tr>\n",
       "    <tr>\n",
       "      <th>1</th>\n",
       "      <td>2020</td>\n",
       "      <td>223638958</td>\n",
       "      <td>2048534616</td>\n",
       "      <td>2048534616</td>\n",
       "      <td>9.16</td>\n",
       "    </tr>\n",
       "    <tr>\n",
       "      <th>2</th>\n",
       "      <td>2019</td>\n",
       "      <td>1228541629</td>\n",
       "      <td>11253443955</td>\n",
       "      <td>11253444050</td>\n",
       "      <td>9.16</td>\n",
       "    </tr>\n",
       "    <tr>\n",
       "      <th>3</th>\n",
       "      <td>2018</td>\n",
       "      <td>1311536128</td>\n",
       "      <td>11948096650</td>\n",
       "      <td>12013670952</td>\n",
       "      <td>9.11</td>\n",
       "    </tr>\n",
       "    <tr>\n",
       "      <th>4</th>\n",
       "      <td>2017</td>\n",
       "      <td>1225639761</td>\n",
       "      <td>10993991460</td>\n",
       "      <td>11226860216</td>\n",
       "      <td>8.97</td>\n",
       "    </tr>\n",
       "  </tbody>\n",
       "</table>\n",
       "</div>"
      ],
      "text/plain": [
       "   YEAR TICKETS SOLD TOTAL BOX OFFICE TOTAL INFLATION ADJUSTED BOX OFFICE  \\\n",
       "0  2021    423774881       3881777912                          3881777912   \n",
       "1  2020    223638958       2048534616                          2048534616   \n",
       "2  2019   1228541629      11253443955                         11253444050   \n",
       "3  2018   1311536128      11948096650                         12013670952   \n",
       "4  2017   1225639761      10993991460                         11226860216   \n",
       "\n",
       "  AVERAGE TICKET PRICE  \n",
       "0                 9.16  \n",
       "1                 9.16  \n",
       "2                 9.16  \n",
       "3                 9.11  \n",
       "4                 8.97  "
      ]
     },
     "execution_count": 7,
     "metadata": {},
     "output_type": "execute_result"
    }
   ],
   "source": [
    "# All dollar sign and commas were removed\n",
    "df_annual_sales.head()"
   ]
  },
  {
   "cell_type": "code",
   "execution_count": 8,
   "id": "c67e5761",
   "metadata": {},
   "outputs": [],
   "source": [
    "# Change the data to int or float\n",
    "df_annual_sales['TICKETS SOLD'] = df_annual_sales['TICKETS SOLD'].astype(int)\n",
    "df_annual_sales['TOTAL BOX OFFICE'] = df_annual_sales['TOTAL BOX OFFICE'].astype(int)\n",
    "df_annual_sales['TOTAL INFLATION ADJUSTED BOX OFFICE'] = df_annual_sales['TOTAL INFLATION ADJUSTED BOX OFFICE'].astype(int)\n",
    "df_annual_sales['AVERAGE TICKET PRICE'] = df_annual_sales['AVERAGE TICKET PRICE'].astype(float)"
   ]
  },
  {
   "cell_type": "code",
   "execution_count": 9,
   "id": "e6497388",
   "metadata": {},
   "outputs": [
    {
     "data": {
      "text/plain": [
       "YEAR                                     int64\n",
       "TICKETS SOLD                             int64\n",
       "TOTAL BOX OFFICE                         int64\n",
       "TOTAL INFLATION ADJUSTED BOX OFFICE      int64\n",
       "AVERAGE TICKET PRICE                   float64\n",
       "dtype: object"
      ]
     },
     "execution_count": 9,
     "metadata": {},
     "output_type": "execute_result"
    }
   ],
   "source": [
    "# All object variable was change and it can be used for further investigation\n",
    "df_annual_sales.dtypes"
   ]
  },
  {
   "cell_type": "markdown",
   "id": "971bb4c4",
   "metadata": {},
   "source": [
    "##### HighestGrossers.csv"
   ]
  },
  {
   "cell_type": "code",
   "execution_count": 10,
   "id": "f5549d00",
   "metadata": {},
   "outputs": [
    {
     "data": {
      "text/html": [
       "<div>\n",
       "<style scoped>\n",
       "    .dataframe tbody tr th:only-of-type {\n",
       "        vertical-align: middle;\n",
       "    }\n",
       "\n",
       "    .dataframe tbody tr th {\n",
       "        vertical-align: top;\n",
       "    }\n",
       "\n",
       "    .dataframe thead th {\n",
       "        text-align: right;\n",
       "    }\n",
       "</style>\n",
       "<table border=\"1\" class=\"dataframe\">\n",
       "  <thead>\n",
       "    <tr style=\"text-align: right;\">\n",
       "      <th></th>\n",
       "      <th>YEAR</th>\n",
       "      <th>MOVIE</th>\n",
       "      <th>GENRE</th>\n",
       "      <th>MPAA RATING</th>\n",
       "      <th>DISTRIBUTOR</th>\n",
       "      <th>TOTAL FOR YEAR</th>\n",
       "      <th>TOTAL IN 2019 DOLLARS</th>\n",
       "      <th>TICKETS SOLD</th>\n",
       "    </tr>\n",
       "  </thead>\n",
       "  <tbody>\n",
       "    <tr>\n",
       "      <th>0</th>\n",
       "      <td>1995</td>\n",
       "      <td>Batman Forever</td>\n",
       "      <td>Drama</td>\n",
       "      <td>PG-13</td>\n",
       "      <td>Warner Bros.</td>\n",
       "      <td>$184,031,112</td>\n",
       "      <td>$387,522,978</td>\n",
       "      <td>4,23,06,002</td>\n",
       "    </tr>\n",
       "    <tr>\n",
       "      <th>1</th>\n",
       "      <td>1996</td>\n",
       "      <td>Independence Day</td>\n",
       "      <td>Adventure</td>\n",
       "      <td>PG-13</td>\n",
       "      <td>20th Century Fox</td>\n",
       "      <td>$306,169,255</td>\n",
       "      <td>$634,504,608</td>\n",
       "      <td>6,92,69,062</td>\n",
       "    </tr>\n",
       "    <tr>\n",
       "      <th>2</th>\n",
       "      <td>1997</td>\n",
       "      <td>Men in Black</td>\n",
       "      <td>Adventure</td>\n",
       "      <td>PG-13</td>\n",
       "      <td>Sony Pictures</td>\n",
       "      <td>$250,650,052</td>\n",
       "      <td>$500,207,943</td>\n",
       "      <td>5,46,07,854</td>\n",
       "    </tr>\n",
       "    <tr>\n",
       "      <th>3</th>\n",
       "      <td>1998</td>\n",
       "      <td>Titanic</td>\n",
       "      <td>Adventure</td>\n",
       "      <td>PG-13</td>\n",
       "      <td>Paramount Pictures</td>\n",
       "      <td>$443,319,081</td>\n",
       "      <td>$865,842,808</td>\n",
       "      <td>9,45,24,324</td>\n",
       "    </tr>\n",
       "    <tr>\n",
       "      <th>4</th>\n",
       "      <td>1999</td>\n",
       "      <td>Star Wars Ep. I: The Phantom Menace</td>\n",
       "      <td>Adventure</td>\n",
       "      <td>PG</td>\n",
       "      <td>20th Century Fox</td>\n",
       "      <td>$430,443,350</td>\n",
       "      <td>$776,153,749</td>\n",
       "      <td>8,47,32,942</td>\n",
       "    </tr>\n",
       "  </tbody>\n",
       "</table>\n",
       "</div>"
      ],
      "text/plain": [
       "   YEAR                                MOVIE      GENRE MPAA RATING  \\\n",
       "0  1995                       Batman Forever      Drama       PG-13   \n",
       "1  1996                     Independence Day  Adventure       PG-13   \n",
       "2  1997                         Men in Black  Adventure       PG-13   \n",
       "3  1998                              Titanic  Adventure       PG-13   \n",
       "4  1999  Star Wars Ep. I: The Phantom Menace  Adventure          PG   \n",
       "\n",
       "          DISTRIBUTOR TOTAL FOR YEAR TOTAL IN 2019 DOLLARS TICKETS SOLD  \n",
       "0        Warner Bros.   $184,031,112          $387,522,978  4,23,06,002  \n",
       "1    20th Century Fox   $306,169,255          $634,504,608  6,92,69,062  \n",
       "2       Sony Pictures   $250,650,052          $500,207,943  5,46,07,854  \n",
       "3  Paramount Pictures   $443,319,081          $865,842,808  9,45,24,324  \n",
       "4    20th Century Fox   $430,443,350          $776,153,749  8,47,32,942  "
      ]
     },
     "execution_count": 10,
     "metadata": {},
     "output_type": "execute_result"
    }
   ],
   "source": [
    "# Quick observation for the data set\n",
    "df_highest_grossers.head()"
   ]
  },
  {
   "cell_type": "code",
   "execution_count": 11,
   "id": "64a16dc9",
   "metadata": {},
   "outputs": [
    {
     "data": {
      "text/plain": [
       "YEAR                      int64\n",
       "MOVIE                    object\n",
       "GENRE                    object\n",
       "MPAA RATING              object\n",
       "DISTRIBUTOR              object\n",
       "TOTAL FOR YEAR           object\n",
       "TOTAL IN 2019 DOLLARS    object\n",
       "TICKETS SOLD             object\n",
       "dtype: object"
      ]
     },
     "execution_count": 11,
     "metadata": {},
     "output_type": "execute_result"
    }
   ],
   "source": [
    "# Check for the column type\n",
    "df_highest_grossers.dtypes"
   ]
  },
  {
   "cell_type": "code",
   "execution_count": 12,
   "id": "b3fa37a0",
   "metadata": {},
   "outputs": [],
   "source": [
    "# Remove the comma and dollar sign for numeric values\n",
    "# Make sure that the comma and dollar sign was not appeared in other column\n",
    "sign_elimination(df_highest_grossers,',','$')"
   ]
  },
  {
   "cell_type": "code",
   "execution_count": 13,
   "id": "98fc28dc",
   "metadata": {},
   "outputs": [],
   "source": [
    "# Change the column type for numeric values\n",
    "df_highest_grossers['TOTAL FOR YEAR'] = df_highest_grossers['TOTAL FOR YEAR'].astype(int)\n",
    "df_highest_grossers['TOTAL IN 2019 DOLLARS'] = df_highest_grossers['TOTAL IN 2019 DOLLARS'].astype(int)\n",
    "df_highest_grossers['TICKETS SOLD'] = df_highest_grossers['TICKETS SOLD'].astype(int)"
   ]
  },
  {
   "cell_type": "code",
   "execution_count": 14,
   "id": "e4288afa",
   "metadata": {},
   "outputs": [
    {
     "data": {
      "text/plain": [
       "YEAR                      int64\n",
       "MOVIE                    object\n",
       "GENRE                    object\n",
       "MPAA RATING              object\n",
       "DISTRIBUTOR              object\n",
       "TOTAL FOR YEAR            int64\n",
       "TOTAL IN 2019 DOLLARS     int64\n",
       "TICKETS SOLD              int64\n",
       "dtype: object"
      ]
     },
     "execution_count": 14,
     "metadata": {},
     "output_type": "execute_result"
    }
   ],
   "source": [
    "# Make sure the column type was changed correctly\n",
    "df_highest_grossers.dtypes"
   ]
  },
  {
   "cell_type": "code",
   "execution_count": 15,
   "id": "c9a858b0",
   "metadata": {},
   "outputs": [
    {
     "data": {
      "text/plain": [
       "(27, 8)"
      ]
     },
     "execution_count": 15,
     "metadata": {},
     "output_type": "execute_result"
    }
   ],
   "source": [
    "df_highest_grossers.shape"
   ]
  },
  {
   "cell_type": "code",
   "execution_count": 16,
   "id": "54b8d9bd",
   "metadata": {},
   "outputs": [
    {
     "data": {
      "text/plain": [
       "['GENRE', 'MPAA RATING', 'DISTRIBUTOR']"
      ]
     },
     "execution_count": 16,
     "metadata": {},
     "output_type": "execute_result"
    }
   ],
   "source": [
    "# Check the column with catagories\n",
    "# Can be converted to function to prevent replicate workload\n",
    "catagories_column = []\n",
    "n = df_highest_grossers.shape[0]\n",
    "for i in df_highest_grossers.columns:\n",
    "    # catagories can be found if it less than the sample size\n",
    "    if len(df_highest_grossers[i].unique()) < n: # Make sure it got replicate values\n",
    "        catagories_column.append(i)\n",
    "catagories_column # Column that needed to be encoded"
   ]
  },
  {
   "cell_type": "markdown",
   "id": "364701d7",
   "metadata": {},
   "source": [
    "##### PopularCreativeTypes.csv"
   ]
  },
  {
   "cell_type": "code",
   "execution_count": 17,
   "id": "20058ccb",
   "metadata": {},
   "outputs": [
    {
     "data": {
      "text/html": [
       "<div>\n",
       "<style scoped>\n",
       "    .dataframe tbody tr th:only-of-type {\n",
       "        vertical-align: middle;\n",
       "    }\n",
       "\n",
       "    .dataframe tbody tr th {\n",
       "        vertical-align: top;\n",
       "    }\n",
       "\n",
       "    .dataframe thead th {\n",
       "        text-align: right;\n",
       "    }\n",
       "</style>\n",
       "<table border=\"1\" class=\"dataframe\">\n",
       "  <thead>\n",
       "    <tr style=\"text-align: right;\">\n",
       "      <th></th>\n",
       "      <th>RANK</th>\n",
       "      <th>CREATIVE TYPES</th>\n",
       "      <th>MOVIES</th>\n",
       "      <th>TOTAL GROSS</th>\n",
       "      <th>AVERAGE GROSS</th>\n",
       "      <th>MARKET SHARE</th>\n",
       "    </tr>\n",
       "  </thead>\n",
       "  <tbody>\n",
       "    <tr>\n",
       "      <th>0</th>\n",
       "      <td>1.0</td>\n",
       "      <td>Contemporary Fiction</td>\n",
       "      <td>7,442</td>\n",
       "      <td>$96,203,727,036</td>\n",
       "      <td>$12,927,133</td>\n",
       "      <td>40.46%</td>\n",
       "    </tr>\n",
       "    <tr>\n",
       "      <th>1</th>\n",
       "      <td>2.0</td>\n",
       "      <td>Kids Fiction</td>\n",
       "      <td>564</td>\n",
       "      <td>$32,035,539,746</td>\n",
       "      <td>$56,800,602</td>\n",
       "      <td>13.47%</td>\n",
       "    </tr>\n",
       "    <tr>\n",
       "      <th>2</th>\n",
       "      <td>3.0</td>\n",
       "      <td>Science Fiction</td>\n",
       "      <td>724</td>\n",
       "      <td>$29,922,660,857</td>\n",
       "      <td>$41,329,642</td>\n",
       "      <td>12.59%</td>\n",
       "    </tr>\n",
       "    <tr>\n",
       "      <th>3</th>\n",
       "      <td>4.0</td>\n",
       "      <td>Fantasy</td>\n",
       "      <td>759</td>\n",
       "      <td>$21,724,062,575</td>\n",
       "      <td>$28,621,953</td>\n",
       "      <td>9.14%</td>\n",
       "    </tr>\n",
       "    <tr>\n",
       "      <th>4</th>\n",
       "      <td>5.0</td>\n",
       "      <td>Super Hero</td>\n",
       "      <td>129</td>\n",
       "      <td>$20,273,157,911</td>\n",
       "      <td>$157,156,263</td>\n",
       "      <td>8.53%</td>\n",
       "    </tr>\n",
       "    <tr>\n",
       "      <th>5</th>\n",
       "      <td>6.0</td>\n",
       "      <td>Historical Fiction</td>\n",
       "      <td>1,487</td>\n",
       "      <td>$18,521,260,744</td>\n",
       "      <td>$12,455,454</td>\n",
       "      <td>7.79%</td>\n",
       "    </tr>\n",
       "    <tr>\n",
       "      <th>6</th>\n",
       "      <td>7.0</td>\n",
       "      <td>Dramatization</td>\n",
       "      <td>1,175</td>\n",
       "      <td>$15,715,191,699</td>\n",
       "      <td>$13,374,631</td>\n",
       "      <td>6.61%</td>\n",
       "    </tr>\n",
       "    <tr>\n",
       "      <th>7</th>\n",
       "      <td>8.0</td>\n",
       "      <td>Factual</td>\n",
       "      <td>2,467</td>\n",
       "      <td>$2,960,327,207</td>\n",
       "      <td>$1,199,970</td>\n",
       "      <td>1.25%</td>\n",
       "    </tr>\n",
       "    <tr>\n",
       "      <th>8</th>\n",
       "      <td>9.0</td>\n",
       "      <td>Multiple Creative Types</td>\n",
       "      <td>42</td>\n",
       "      <td>$117,574,526</td>\n",
       "      <td>$2,799,393</td>\n",
       "      <td>0.05%</td>\n",
       "    </tr>\n",
       "    <tr>\n",
       "      <th>9</th>\n",
       "      <td>NaN</td>\n",
       "      <td>NaN</td>\n",
       "      <td>NaN</td>\n",
       "      <td>NaN</td>\n",
       "      <td>NaN</td>\n",
       "      <td>NaN</td>\n",
       "    </tr>\n",
       "  </tbody>\n",
       "</table>\n",
       "</div>"
      ],
      "text/plain": [
       "   RANK           CREATIVE TYPES MOVIES      TOTAL GROSS AVERAGE GROSS  \\\n",
       "0   1.0     Contemporary Fiction  7,442  $96,203,727,036   $12,927,133   \n",
       "1   2.0             Kids Fiction    564  $32,035,539,746   $56,800,602   \n",
       "2   3.0          Science Fiction    724  $29,922,660,857   $41,329,642   \n",
       "3   4.0                  Fantasy    759  $21,724,062,575   $28,621,953   \n",
       "4   5.0               Super Hero    129  $20,273,157,911  $157,156,263   \n",
       "5   6.0       Historical Fiction  1,487  $18,521,260,744   $12,455,454   \n",
       "6   7.0            Dramatization  1,175  $15,715,191,699   $13,374,631   \n",
       "7   8.0                  Factual  2,467   $2,960,327,207    $1,199,970   \n",
       "8   9.0  Multiple Creative Types     42     $117,574,526    $2,799,393   \n",
       "9   NaN                      NaN    NaN              NaN           NaN   \n",
       "\n",
       "  MARKET SHARE  \n",
       "0       40.46%  \n",
       "1       13.47%  \n",
       "2       12.59%  \n",
       "3        9.14%  \n",
       "4        8.53%  \n",
       "5        7.79%  \n",
       "6        6.61%  \n",
       "7        1.25%  \n",
       "8        0.05%  \n",
       "9          NaN  "
      ]
     },
     "execution_count": 17,
     "metadata": {},
     "output_type": "execute_result"
    }
   ],
   "source": [
    "# Quick observation for the data set\n",
    "df_popular_type"
   ]
  },
  {
   "cell_type": "code",
   "execution_count": 18,
   "id": "657c1417",
   "metadata": {},
   "outputs": [],
   "source": [
    "# Remove the null row\n",
    "df_popular_type.drop(9, axis = 0, inplace= True)"
   ]
  },
  {
   "cell_type": "code",
   "execution_count": 19,
   "id": "cc21ba2b",
   "metadata": {},
   "outputs": [],
   "source": [
    "# Remove the commas ,dollar sign and percentage sign\n",
    "sign_elimination(df_popular_type,',','$','%')"
   ]
  },
  {
   "cell_type": "code",
   "execution_count": 20,
   "id": "e6aeb09b",
   "metadata": {},
   "outputs": [
    {
     "data": {
      "text/plain": [
       "RANK              float64\n",
       "CREATIVE TYPES     object\n",
       "MOVIES             object\n",
       "TOTAL GROSS        object\n",
       "AVERAGE GROSS      object\n",
       "MARKET SHARE       object\n",
       "dtype: object"
      ]
     },
     "execution_count": 20,
     "metadata": {},
     "output_type": "execute_result"
    }
   ],
   "source": [
    "# Check the type for data set\n",
    "df_popular_type.dtypes"
   ]
  },
  {
   "cell_type": "code",
   "execution_count": 21,
   "id": "8e24794a",
   "metadata": {},
   "outputs": [],
   "source": [
    "# Change the type for certain column\n",
    "# MARKET SHARE needed to changed to float and divide by 100\n",
    "df_popular_type['MOVIES'] = df_popular_type['MOVIES'].astype(int)\n",
    "df_popular_type['TOTAL GROSS'] = df_popular_type['TOTAL GROSS'].astype(int)\n",
    "df_popular_type['AVERAGE GROSS'] = df_popular_type['AVERAGE GROSS'].astype(int)\n",
    "df_popular_type['MARKET SHARE'] = df_popular_type['MARKET SHARE'].astype(float)\n",
    "df_popular_type['MARKET SHARE'] = df_popular_type['MARKET SHARE'] / 100"
   ]
  },
  {
   "cell_type": "code",
   "execution_count": 22,
   "id": "1db3885d",
   "metadata": {},
   "outputs": [
    {
     "data": {
      "text/plain": [
       "RANK              float64\n",
       "CREATIVE TYPES     object\n",
       "MOVIES              int64\n",
       "TOTAL GROSS         int64\n",
       "AVERAGE GROSS       int64\n",
       "MARKET SHARE      float64\n",
       "dtype: object"
      ]
     },
     "execution_count": 22,
     "metadata": {},
     "output_type": "execute_result"
    }
   ],
   "source": [
    "# Make sure the column types was changed correctly\n",
    "df_popular_type.dtypes"
   ]
  },
  {
   "cell_type": "code",
   "execution_count": 23,
   "id": "b708d461",
   "metadata": {},
   "outputs": [
    {
     "data": {
      "text/html": [
       "<div>\n",
       "<style scoped>\n",
       "    .dataframe tbody tr th:only-of-type {\n",
       "        vertical-align: middle;\n",
       "    }\n",
       "\n",
       "    .dataframe tbody tr th {\n",
       "        vertical-align: top;\n",
       "    }\n",
       "\n",
       "    .dataframe thead th {\n",
       "        text-align: right;\n",
       "    }\n",
       "</style>\n",
       "<table border=\"1\" class=\"dataframe\">\n",
       "  <thead>\n",
       "    <tr style=\"text-align: right;\">\n",
       "      <th></th>\n",
       "      <th>RANK</th>\n",
       "      <th>CREATIVE TYPES</th>\n",
       "      <th>MOVIES</th>\n",
       "      <th>TOTAL GROSS</th>\n",
       "      <th>AVERAGE GROSS</th>\n",
       "      <th>MARKET SHARE</th>\n",
       "    </tr>\n",
       "  </thead>\n",
       "  <tbody>\n",
       "    <tr>\n",
       "      <th>0</th>\n",
       "      <td>1.0</td>\n",
       "      <td>Contemporary Fiction</td>\n",
       "      <td>7442</td>\n",
       "      <td>96203727036</td>\n",
       "      <td>12927133</td>\n",
       "      <td>0.4046</td>\n",
       "    </tr>\n",
       "    <tr>\n",
       "      <th>1</th>\n",
       "      <td>2.0</td>\n",
       "      <td>Kids Fiction</td>\n",
       "      <td>564</td>\n",
       "      <td>32035539746</td>\n",
       "      <td>56800602</td>\n",
       "      <td>0.1347</td>\n",
       "    </tr>\n",
       "    <tr>\n",
       "      <th>2</th>\n",
       "      <td>3.0</td>\n",
       "      <td>Science Fiction</td>\n",
       "      <td>724</td>\n",
       "      <td>29922660857</td>\n",
       "      <td>41329642</td>\n",
       "      <td>0.1259</td>\n",
       "    </tr>\n",
       "    <tr>\n",
       "      <th>3</th>\n",
       "      <td>4.0</td>\n",
       "      <td>Fantasy</td>\n",
       "      <td>759</td>\n",
       "      <td>21724062575</td>\n",
       "      <td>28621953</td>\n",
       "      <td>0.0914</td>\n",
       "    </tr>\n",
       "    <tr>\n",
       "      <th>4</th>\n",
       "      <td>5.0</td>\n",
       "      <td>Super Hero</td>\n",
       "      <td>129</td>\n",
       "      <td>20273157911</td>\n",
       "      <td>157156263</td>\n",
       "      <td>0.0853</td>\n",
       "    </tr>\n",
       "  </tbody>\n",
       "</table>\n",
       "</div>"
      ],
      "text/plain": [
       "   RANK        CREATIVE TYPES  MOVIES  TOTAL GROSS  AVERAGE GROSS  \\\n",
       "0   1.0  Contemporary Fiction    7442  96203727036       12927133   \n",
       "1   2.0          Kids Fiction     564  32035539746       56800602   \n",
       "2   3.0       Science Fiction     724  29922660857       41329642   \n",
       "3   4.0               Fantasy     759  21724062575       28621953   \n",
       "4   5.0            Super Hero     129  20273157911      157156263   \n",
       "\n",
       "   MARKET SHARE  \n",
       "0        0.4046  \n",
       "1        0.1347  \n",
       "2        0.1259  \n",
       "3        0.0914  \n",
       "4        0.0853  "
      ]
     },
     "execution_count": 23,
     "metadata": {},
     "output_type": "execute_result"
    }
   ],
   "source": [
    "# Quick check for the data set\n",
    "df_popular_type.head()"
   ]
  },
  {
   "cell_type": "markdown",
   "id": "949175d4",
   "metadata": {},
   "source": [
    "##### TopDistributors.csv"
   ]
  },
  {
   "cell_type": "code",
   "execution_count": 24,
   "id": "c6c3d47d",
   "metadata": {},
   "outputs": [
    {
     "data": {
      "text/html": [
       "<div>\n",
       "<style scoped>\n",
       "    .dataframe tbody tr th:only-of-type {\n",
       "        vertical-align: middle;\n",
       "    }\n",
       "\n",
       "    .dataframe tbody tr th {\n",
       "        vertical-align: top;\n",
       "    }\n",
       "\n",
       "    .dataframe thead th {\n",
       "        text-align: right;\n",
       "    }\n",
       "</style>\n",
       "<table border=\"1\" class=\"dataframe\">\n",
       "  <thead>\n",
       "    <tr style=\"text-align: right;\">\n",
       "      <th></th>\n",
       "      <th>RANK</th>\n",
       "      <th>DISTRIBUTORS</th>\n",
       "      <th>MOVIES</th>\n",
       "      <th>TOTAL GROSS</th>\n",
       "      <th>AVERAGE GROSS</th>\n",
       "      <th>MARKET SHARE</th>\n",
       "    </tr>\n",
       "  </thead>\n",
       "  <tbody>\n",
       "    <tr>\n",
       "      <th>0</th>\n",
       "      <td>1</td>\n",
       "      <td>Walt Disney</td>\n",
       "      <td>588</td>\n",
       "      <td>$40,472,424,278</td>\n",
       "      <td>$68,830,654</td>\n",
       "      <td>17.02%</td>\n",
       "    </tr>\n",
       "    <tr>\n",
       "      <th>1</th>\n",
       "      <td>2</td>\n",
       "      <td>Warner Bros.</td>\n",
       "      <td>824</td>\n",
       "      <td>$36,269,425,479</td>\n",
       "      <td>$44,016,293</td>\n",
       "      <td>15.25%</td>\n",
       "    </tr>\n",
       "    <tr>\n",
       "      <th>2</th>\n",
       "      <td>3</td>\n",
       "      <td>Sony Pictures</td>\n",
       "      <td>747</td>\n",
       "      <td>$29,113,002,302</td>\n",
       "      <td>$38,973,229</td>\n",
       "      <td>12.24%</td>\n",
       "    </tr>\n",
       "    <tr>\n",
       "      <th>3</th>\n",
       "      <td>4</td>\n",
       "      <td>Universal</td>\n",
       "      <td>535</td>\n",
       "      <td>$28,089,932,569</td>\n",
       "      <td>$52,504,547</td>\n",
       "      <td>11.81%</td>\n",
       "    </tr>\n",
       "    <tr>\n",
       "      <th>4</th>\n",
       "      <td>5</td>\n",
       "      <td>20th Century Fox</td>\n",
       "      <td>525</td>\n",
       "      <td>$25,857,839,756</td>\n",
       "      <td>$49,253,028</td>\n",
       "      <td>10.88%</td>\n",
       "    </tr>\n",
       "  </tbody>\n",
       "</table>\n",
       "</div>"
      ],
      "text/plain": [
       "   RANK      DISTRIBUTORS  MOVIES      TOTAL GROSS AVERAGE GROSS MARKET SHARE\n",
       "0     1       Walt Disney     588  $40,472,424,278   $68,830,654       17.02%\n",
       "1     2      Warner Bros.     824  $36,269,425,479   $44,016,293       15.25%\n",
       "2     3     Sony Pictures     747  $29,113,002,302   $38,973,229       12.24%\n",
       "3     4         Universal     535  $28,089,932,569   $52,504,547       11.81%\n",
       "4     5  20th Century Fox     525  $25,857,839,756   $49,253,028       10.88%"
      ]
     },
     "execution_count": 24,
     "metadata": {},
     "output_type": "execute_result"
    }
   ],
   "source": [
    "# Quick observation for the data set\n",
    "df_top_dist.head()"
   ]
  },
  {
   "cell_type": "code",
   "execution_count": 25,
   "id": "37db3725",
   "metadata": {},
   "outputs": [],
   "source": [
    "# Eliminate the dollar sign, commas and percentage\n",
    "sign_elimination(df_top_dist,',','$','%')"
   ]
  },
  {
   "cell_type": "code",
   "execution_count": 26,
   "id": "f809936d",
   "metadata": {},
   "outputs": [
    {
     "data": {
      "text/html": [
       "<div>\n",
       "<style scoped>\n",
       "    .dataframe tbody tr th:only-of-type {\n",
       "        vertical-align: middle;\n",
       "    }\n",
       "\n",
       "    .dataframe tbody tr th {\n",
       "        vertical-align: top;\n",
       "    }\n",
       "\n",
       "    .dataframe thead th {\n",
       "        text-align: right;\n",
       "    }\n",
       "</style>\n",
       "<table border=\"1\" class=\"dataframe\">\n",
       "  <thead>\n",
       "    <tr style=\"text-align: right;\">\n",
       "      <th></th>\n",
       "      <th>RANK</th>\n",
       "      <th>DISTRIBUTORS</th>\n",
       "      <th>MOVIES</th>\n",
       "      <th>TOTAL GROSS</th>\n",
       "      <th>AVERAGE GROSS</th>\n",
       "      <th>MARKET SHARE</th>\n",
       "    </tr>\n",
       "  </thead>\n",
       "  <tbody>\n",
       "    <tr>\n",
       "      <th>0</th>\n",
       "      <td>1</td>\n",
       "      <td>Walt Disney</td>\n",
       "      <td>588</td>\n",
       "      <td>40472424278</td>\n",
       "      <td>68830654</td>\n",
       "      <td>17.02</td>\n",
       "    </tr>\n",
       "    <tr>\n",
       "      <th>1</th>\n",
       "      <td>2</td>\n",
       "      <td>Warner Bros.</td>\n",
       "      <td>824</td>\n",
       "      <td>36269425479</td>\n",
       "      <td>44016293</td>\n",
       "      <td>15.25</td>\n",
       "    </tr>\n",
       "    <tr>\n",
       "      <th>2</th>\n",
       "      <td>3</td>\n",
       "      <td>Sony Pictures</td>\n",
       "      <td>747</td>\n",
       "      <td>29113002302</td>\n",
       "      <td>38973229</td>\n",
       "      <td>12.24</td>\n",
       "    </tr>\n",
       "    <tr>\n",
       "      <th>3</th>\n",
       "      <td>4</td>\n",
       "      <td>Universal</td>\n",
       "      <td>535</td>\n",
       "      <td>28089932569</td>\n",
       "      <td>52504547</td>\n",
       "      <td>11.81</td>\n",
       "    </tr>\n",
       "    <tr>\n",
       "      <th>4</th>\n",
       "      <td>5</td>\n",
       "      <td>20th Century Fox</td>\n",
       "      <td>525</td>\n",
       "      <td>25857839756</td>\n",
       "      <td>49253028</td>\n",
       "      <td>10.88</td>\n",
       "    </tr>\n",
       "  </tbody>\n",
       "</table>\n",
       "</div>"
      ],
      "text/plain": [
       "   RANK      DISTRIBUTORS  MOVIES  TOTAL GROSS AVERAGE GROSS MARKET SHARE\n",
       "0     1       Walt Disney     588  40472424278      68830654        17.02\n",
       "1     2      Warner Bros.     824  36269425479      44016293        15.25\n",
       "2     3     Sony Pictures     747  29113002302      38973229        12.24\n",
       "3     4         Universal     535  28089932569      52504547        11.81\n",
       "4     5  20th Century Fox     525  25857839756      49253028        10.88"
      ]
     },
     "execution_count": 26,
     "metadata": {},
     "output_type": "execute_result"
    }
   ],
   "source": [
    "# Make sure all the sign was removed\n",
    "df_top_dist.head()"
   ]
  },
  {
   "cell_type": "code",
   "execution_count": 27,
   "id": "0d28f4d5",
   "metadata": {},
   "outputs": [
    {
     "data": {
      "text/plain": [
       "RANK              int64\n",
       "DISTRIBUTORS     object\n",
       "MOVIES            int64\n",
       "TOTAL GROSS      object\n",
       "AVERAGE GROSS    object\n",
       "MARKET SHARE     object\n",
       "dtype: object"
      ]
     },
     "execution_count": 27,
     "metadata": {},
     "output_type": "execute_result"
    }
   ],
   "source": [
    "# Check the type for each column\n",
    "df_top_dist.dtypes"
   ]
  },
  {
   "cell_type": "code",
   "execution_count": 28,
   "id": "8b18be4e",
   "metadata": {},
   "outputs": [],
   "source": [
    "# Modify the column types and convert it to floating number instead of pertage\n",
    "df_top_dist['TOTAL GROSS'] = df_top_dist['TOTAL GROSS'].astype(int)\n",
    "df_top_dist['AVERAGE GROSS'] = df_top_dist['AVERAGE GROSS'].astype(int)\n",
    "df_top_dist['MARKET SHARE'] = df_top_dist['MARKET SHARE'].astype(float) / 100"
   ]
  },
  {
   "cell_type": "code",
   "execution_count": 29,
   "id": "e8eed190",
   "metadata": {},
   "outputs": [
    {
     "data": {
      "text/html": [
       "<div>\n",
       "<style scoped>\n",
       "    .dataframe tbody tr th:only-of-type {\n",
       "        vertical-align: middle;\n",
       "    }\n",
       "\n",
       "    .dataframe tbody tr th {\n",
       "        vertical-align: top;\n",
       "    }\n",
       "\n",
       "    .dataframe thead th {\n",
       "        text-align: right;\n",
       "    }\n",
       "</style>\n",
       "<table border=\"1\" class=\"dataframe\">\n",
       "  <thead>\n",
       "    <tr style=\"text-align: right;\">\n",
       "      <th></th>\n",
       "      <th>RANK</th>\n",
       "      <th>DISTRIBUTORS</th>\n",
       "      <th>MOVIES</th>\n",
       "      <th>TOTAL GROSS</th>\n",
       "      <th>AVERAGE GROSS</th>\n",
       "      <th>MARKET SHARE</th>\n",
       "    </tr>\n",
       "  </thead>\n",
       "  <tbody>\n",
       "    <tr>\n",
       "      <th>0</th>\n",
       "      <td>1</td>\n",
       "      <td>Walt Disney</td>\n",
       "      <td>588</td>\n",
       "      <td>40472424278</td>\n",
       "      <td>68830654</td>\n",
       "      <td>0.1702</td>\n",
       "    </tr>\n",
       "    <tr>\n",
       "      <th>1</th>\n",
       "      <td>2</td>\n",
       "      <td>Warner Bros.</td>\n",
       "      <td>824</td>\n",
       "      <td>36269425479</td>\n",
       "      <td>44016293</td>\n",
       "      <td>0.1525</td>\n",
       "    </tr>\n",
       "    <tr>\n",
       "      <th>2</th>\n",
       "      <td>3</td>\n",
       "      <td>Sony Pictures</td>\n",
       "      <td>747</td>\n",
       "      <td>29113002302</td>\n",
       "      <td>38973229</td>\n",
       "      <td>0.1224</td>\n",
       "    </tr>\n",
       "    <tr>\n",
       "      <th>3</th>\n",
       "      <td>4</td>\n",
       "      <td>Universal</td>\n",
       "      <td>535</td>\n",
       "      <td>28089932569</td>\n",
       "      <td>52504547</td>\n",
       "      <td>0.1181</td>\n",
       "    </tr>\n",
       "    <tr>\n",
       "      <th>4</th>\n",
       "      <td>5</td>\n",
       "      <td>20th Century Fox</td>\n",
       "      <td>525</td>\n",
       "      <td>25857839756</td>\n",
       "      <td>49253028</td>\n",
       "      <td>0.1088</td>\n",
       "    </tr>\n",
       "  </tbody>\n",
       "</table>\n",
       "</div>"
      ],
      "text/plain": [
       "   RANK      DISTRIBUTORS  MOVIES  TOTAL GROSS  AVERAGE GROSS  MARKET SHARE\n",
       "0     1       Walt Disney     588  40472424278       68830654        0.1702\n",
       "1     2      Warner Bros.     824  36269425479       44016293        0.1525\n",
       "2     3     Sony Pictures     747  29113002302       38973229        0.1224\n",
       "3     4         Universal     535  28089932569       52504547        0.1181\n",
       "4     5  20th Century Fox     525  25857839756       49253028        0.1088"
      ]
     },
     "execution_count": 29,
     "metadata": {},
     "output_type": "execute_result"
    }
   ],
   "source": [
    "# final check for the data set\n",
    "df_top_dist.head()"
   ]
  },
  {
   "cell_type": "markdown",
   "id": "2fb45374",
   "metadata": {},
   "source": [
    "##### TopGenres.csv"
   ]
  },
  {
   "cell_type": "code",
   "execution_count": 30,
   "id": "2975c54a",
   "metadata": {},
   "outputs": [
    {
     "data": {
      "text/html": [
       "<div>\n",
       "<style scoped>\n",
       "    .dataframe tbody tr th:only-of-type {\n",
       "        vertical-align: middle;\n",
       "    }\n",
       "\n",
       "    .dataframe tbody tr th {\n",
       "        vertical-align: top;\n",
       "    }\n",
       "\n",
       "    .dataframe thead th {\n",
       "        text-align: right;\n",
       "    }\n",
       "</style>\n",
       "<table border=\"1\" class=\"dataframe\">\n",
       "  <thead>\n",
       "    <tr style=\"text-align: right;\">\n",
       "      <th></th>\n",
       "      <th>RANK</th>\n",
       "      <th>GENRES</th>\n",
       "      <th>MOVIES</th>\n",
       "      <th>TOTAL GROSS</th>\n",
       "      <th>AVERAGE GROSS</th>\n",
       "      <th>MARKET SHARE</th>\n",
       "    </tr>\n",
       "  </thead>\n",
       "  <tbody>\n",
       "    <tr>\n",
       "      <th>0</th>\n",
       "      <td>1</td>\n",
       "      <td>Adventure</td>\n",
       "      <td>1,102</td>\n",
       "      <td>$64,529,536,530</td>\n",
       "      <td>$58,556,748</td>\n",
       "      <td>27.14%</td>\n",
       "    </tr>\n",
       "    <tr>\n",
       "      <th>1</th>\n",
       "      <td>2</td>\n",
       "      <td>Action</td>\n",
       "      <td>1,098</td>\n",
       "      <td>$49,339,974,493</td>\n",
       "      <td>$44,936,224</td>\n",
       "      <td>20.75%</td>\n",
       "    </tr>\n",
       "    <tr>\n",
       "      <th>2</th>\n",
       "      <td>3</td>\n",
       "      <td>Drama</td>\n",
       "      <td>5,479</td>\n",
       "      <td>$35,586,177,269</td>\n",
       "      <td>$6,495,013</td>\n",
       "      <td>14.97%</td>\n",
       "    </tr>\n",
       "    <tr>\n",
       "      <th>3</th>\n",
       "      <td>4</td>\n",
       "      <td>Comedy</td>\n",
       "      <td>2,418</td>\n",
       "      <td>$33,687,992,318</td>\n",
       "      <td>$13,932,172</td>\n",
       "      <td>14.17%</td>\n",
       "    </tr>\n",
       "    <tr>\n",
       "      <th>4</th>\n",
       "      <td>5</td>\n",
       "      <td>Thriller/Suspense</td>\n",
       "      <td>1,186</td>\n",
       "      <td>$19,810,201,102</td>\n",
       "      <td>$16,703,374</td>\n",
       "      <td>8.33%</td>\n",
       "    </tr>\n",
       "    <tr>\n",
       "      <th>5</th>\n",
       "      <td>6</td>\n",
       "      <td>Horror</td>\n",
       "      <td>716</td>\n",
       "      <td>$13,430,378,699</td>\n",
       "      <td>$18,757,512</td>\n",
       "      <td>5.65%</td>\n",
       "    </tr>\n",
       "    <tr>\n",
       "      <th>6</th>\n",
       "      <td>7</td>\n",
       "      <td>Romantic Comedy</td>\n",
       "      <td>630</td>\n",
       "      <td>$10,480,124,374</td>\n",
       "      <td>$16,635,118</td>\n",
       "      <td>4.41%</td>\n",
       "    </tr>\n",
       "    <tr>\n",
       "      <th>7</th>\n",
       "      <td>8</td>\n",
       "      <td>Musical</td>\n",
       "      <td>201</td>\n",
       "      <td>$4,293,988,317</td>\n",
       "      <td>$21,363,126</td>\n",
       "      <td>1.81%</td>\n",
       "    </tr>\n",
       "    <tr>\n",
       "      <th>8</th>\n",
       "      <td>9</td>\n",
       "      <td>Documentary</td>\n",
       "      <td>2,415</td>\n",
       "      <td>$2,519,513,142</td>\n",
       "      <td>$1,043,277</td>\n",
       "      <td>1.06%</td>\n",
       "    </tr>\n",
       "    <tr>\n",
       "      <th>9</th>\n",
       "      <td>10</td>\n",
       "      <td>Black Comedy</td>\n",
       "      <td>213</td>\n",
       "      <td>$2,185,433,323</td>\n",
       "      <td>$10,260,250</td>\n",
       "      <td>0.92%</td>\n",
       "    </tr>\n",
       "  </tbody>\n",
       "</table>\n",
       "</div>"
      ],
      "text/plain": [
       "   RANK             GENRES MOVIES      TOTAL GROSS AVERAGE GROSS MARKET SHARE\n",
       "0     1          Adventure  1,102  $64,529,536,530   $58,556,748       27.14%\n",
       "1     2             Action  1,098  $49,339,974,493   $44,936,224       20.75%\n",
       "2     3              Drama  5,479  $35,586,177,269    $6,495,013       14.97%\n",
       "3     4             Comedy  2,418  $33,687,992,318   $13,932,172       14.17%\n",
       "4     5  Thriller/Suspense  1,186  $19,810,201,102   $16,703,374        8.33%\n",
       "5     6             Horror    716  $13,430,378,699   $18,757,512        5.65%\n",
       "6     7    Romantic Comedy    630  $10,480,124,374   $16,635,118        4.41%\n",
       "7     8            Musical    201   $4,293,988,317   $21,363,126        1.81%\n",
       "8     9        Documentary  2,415   $2,519,513,142    $1,043,277        1.06%\n",
       "9    10       Black Comedy    213   $2,185,433,323   $10,260,250        0.92%"
      ]
     },
     "execution_count": 30,
     "metadata": {},
     "output_type": "execute_result"
    }
   ],
   "source": [
    "# Quick review of the data set\n",
    "df_top_gen"
   ]
  },
  {
   "cell_type": "code",
   "execution_count": 31,
   "id": "5191b587",
   "metadata": {},
   "outputs": [],
   "source": [
    "# Remove the commas, dollar sign and percentage\n",
    "sign_elimination(df_top_gen, ',','$','%')"
   ]
  },
  {
   "cell_type": "code",
   "execution_count": 32,
   "id": "b4b39ead",
   "metadata": {},
   "outputs": [
    {
     "data": {
      "text/plain": [
       "RANK              int64\n",
       "GENRES           object\n",
       "MOVIES           object\n",
       "TOTAL GROSS      object\n",
       "AVERAGE GROSS    object\n",
       "MARKET SHARE     object\n",
       "dtype: object"
      ]
     },
     "execution_count": 32,
     "metadata": {},
     "output_type": "execute_result"
    }
   ],
   "source": [
    "# Check the type for the data set\n",
    "df_top_gen.dtypes"
   ]
  },
  {
   "cell_type": "code",
   "execution_count": 33,
   "id": "33cc6a4b",
   "metadata": {},
   "outputs": [],
   "source": [
    "# Change the type for centain columns\n",
    "df_top_gen['MOVIES'] = df_top_gen['MOVIES'].astype(int)\n",
    "df_top_gen['TOTAL GROSS'] = df_top_gen['TOTAL GROSS'].astype(int)\n",
    "df_top_gen['AVERAGE GROSS'] = df_top_gen['AVERAGE GROSS'].astype(int)\n",
    "df_top_gen['MARKET SHARE'] = df_top_gen['MARKET SHARE'].astype(float) / 100"
   ]
  },
  {
   "cell_type": "code",
   "execution_count": 34,
   "id": "82099b6e",
   "metadata": {},
   "outputs": [
    {
     "data": {
      "text/html": [
       "<div>\n",
       "<style scoped>\n",
       "    .dataframe tbody tr th:only-of-type {\n",
       "        vertical-align: middle;\n",
       "    }\n",
       "\n",
       "    .dataframe tbody tr th {\n",
       "        vertical-align: top;\n",
       "    }\n",
       "\n",
       "    .dataframe thead th {\n",
       "        text-align: right;\n",
       "    }\n",
       "</style>\n",
       "<table border=\"1\" class=\"dataframe\">\n",
       "  <thead>\n",
       "    <tr style=\"text-align: right;\">\n",
       "      <th></th>\n",
       "      <th>RANK</th>\n",
       "      <th>GENRES</th>\n",
       "      <th>MOVIES</th>\n",
       "      <th>TOTAL GROSS</th>\n",
       "      <th>AVERAGE GROSS</th>\n",
       "      <th>MARKET SHARE</th>\n",
       "    </tr>\n",
       "  </thead>\n",
       "  <tbody>\n",
       "    <tr>\n",
       "      <th>0</th>\n",
       "      <td>1</td>\n",
       "      <td>Adventure</td>\n",
       "      <td>1102</td>\n",
       "      <td>64529536530</td>\n",
       "      <td>58556748</td>\n",
       "      <td>0.2714</td>\n",
       "    </tr>\n",
       "    <tr>\n",
       "      <th>1</th>\n",
       "      <td>2</td>\n",
       "      <td>Action</td>\n",
       "      <td>1098</td>\n",
       "      <td>49339974493</td>\n",
       "      <td>44936224</td>\n",
       "      <td>0.2075</td>\n",
       "    </tr>\n",
       "    <tr>\n",
       "      <th>2</th>\n",
       "      <td>3</td>\n",
       "      <td>Drama</td>\n",
       "      <td>5479</td>\n",
       "      <td>35586177269</td>\n",
       "      <td>6495013</td>\n",
       "      <td>0.1497</td>\n",
       "    </tr>\n",
       "    <tr>\n",
       "      <th>3</th>\n",
       "      <td>4</td>\n",
       "      <td>Comedy</td>\n",
       "      <td>2418</td>\n",
       "      <td>33687992318</td>\n",
       "      <td>13932172</td>\n",
       "      <td>0.1417</td>\n",
       "    </tr>\n",
       "    <tr>\n",
       "      <th>4</th>\n",
       "      <td>5</td>\n",
       "      <td>Thriller/Suspense</td>\n",
       "      <td>1186</td>\n",
       "      <td>19810201102</td>\n",
       "      <td>16703374</td>\n",
       "      <td>0.0833</td>\n",
       "    </tr>\n",
       "  </tbody>\n",
       "</table>\n",
       "</div>"
      ],
      "text/plain": [
       "   RANK             GENRES  MOVIES  TOTAL GROSS  AVERAGE GROSS  MARKET SHARE\n",
       "0     1          Adventure    1102  64529536530       58556748        0.2714\n",
       "1     2             Action    1098  49339974493       44936224        0.2075\n",
       "2     3              Drama    5479  35586177269        6495013        0.1497\n",
       "3     4             Comedy    2418  33687992318       13932172        0.1417\n",
       "4     5  Thriller/Suspense    1186  19810201102       16703374        0.0833"
      ]
     },
     "execution_count": 34,
     "metadata": {},
     "output_type": "execute_result"
    }
   ],
   "source": [
    "# Double check the date set and data type\n",
    "df_top_gen.head()"
   ]
  },
  {
   "cell_type": "code",
   "execution_count": 35,
   "id": "42ce0551",
   "metadata": {},
   "outputs": [
    {
     "data": {
      "text/plain": [
       "RANK               int64\n",
       "GENRES            object\n",
       "MOVIES             int64\n",
       "TOTAL GROSS        int64\n",
       "AVERAGE GROSS      int64\n",
       "MARKET SHARE     float64\n",
       "dtype: object"
      ]
     },
     "execution_count": 35,
     "metadata": {},
     "output_type": "execute_result"
    }
   ],
   "source": [
    "df_top_gen.dtypes"
   ]
  },
  {
   "cell_type": "markdown",
   "id": "eae1acba",
   "metadata": {},
   "source": [
    "##### TopGrossingRatings.csv"
   ]
  },
  {
   "cell_type": "code",
   "execution_count": 36,
   "id": "16f1ad97",
   "metadata": {},
   "outputs": [
    {
     "data": {
      "text/html": [
       "<div>\n",
       "<style scoped>\n",
       "    .dataframe tbody tr th:only-of-type {\n",
       "        vertical-align: middle;\n",
       "    }\n",
       "\n",
       "    .dataframe tbody tr th {\n",
       "        vertical-align: top;\n",
       "    }\n",
       "\n",
       "    .dataframe thead th {\n",
       "        text-align: right;\n",
       "    }\n",
       "</style>\n",
       "<table border=\"1\" class=\"dataframe\">\n",
       "  <thead>\n",
       "    <tr style=\"text-align: right;\">\n",
       "      <th></th>\n",
       "      <th>RANK</th>\n",
       "      <th>MPAA RATINGS</th>\n",
       "      <th>MOVIES</th>\n",
       "      <th>TOTAL GROSS</th>\n",
       "      <th>AVERAGE GROSS</th>\n",
       "      <th>MARKET SHARE</th>\n",
       "    </tr>\n",
       "  </thead>\n",
       "  <tbody>\n",
       "    <tr>\n",
       "      <th>0</th>\n",
       "      <td>1</td>\n",
       "      <td>PG-13</td>\n",
       "      <td>3,243</td>\n",
       "      <td>$113,524,789,243</td>\n",
       "      <td>$35,006,102</td>\n",
       "      <td>47.75%</td>\n",
       "    </tr>\n",
       "    <tr>\n",
       "      <th>1</th>\n",
       "      <td>2</td>\n",
       "      <td>R</td>\n",
       "      <td>5,480</td>\n",
       "      <td>$63,497,164,978</td>\n",
       "      <td>$11,587,074</td>\n",
       "      <td>26.71%</td>\n",
       "    </tr>\n",
       "    <tr>\n",
       "      <th>2</th>\n",
       "      <td>3</td>\n",
       "      <td>PG</td>\n",
       "      <td>1,535</td>\n",
       "      <td>$49,124,317,794</td>\n",
       "      <td>$32,002,813</td>\n",
       "      <td>20.66%</td>\n",
       "    </tr>\n",
       "    <tr>\n",
       "      <th>3</th>\n",
       "      <td>4</td>\n",
       "      <td>G</td>\n",
       "      <td>395</td>\n",
       "      <td>$9,572,240,391</td>\n",
       "      <td>$24,233,520</td>\n",
       "      <td>4.03%</td>\n",
       "    </tr>\n",
       "    <tr>\n",
       "      <th>4</th>\n",
       "      <td>5</td>\n",
       "      <td>Not Rated</td>\n",
       "      <td>5,820</td>\n",
       "      <td>$1,918,358,283</td>\n",
       "      <td>$329,615</td>\n",
       "      <td>0.81%</td>\n",
       "    </tr>\n",
       "    <tr>\n",
       "      <th>5</th>\n",
       "      <td>6</td>\n",
       "      <td>NC-17</td>\n",
       "      <td>24</td>\n",
       "      <td>$44,850,139</td>\n",
       "      <td>$1,868,756</td>\n",
       "      <td>0.02%</td>\n",
       "    </tr>\n",
       "    <tr>\n",
       "      <th>6</th>\n",
       "      <td>7</td>\n",
       "      <td>Open</td>\n",
       "      <td>5</td>\n",
       "      <td>$5,489,687</td>\n",
       "      <td>$1,097,937</td>\n",
       "      <td>0.00%</td>\n",
       "    </tr>\n",
       "    <tr>\n",
       "      <th>7</th>\n",
       "      <td>8</td>\n",
       "      <td>GP</td>\n",
       "      <td>7</td>\n",
       "      <td>$552,618</td>\n",
       "      <td>$78,945</td>\n",
       "      <td>0.00%</td>\n",
       "    </tr>\n",
       "  </tbody>\n",
       "</table>\n",
       "</div>"
      ],
      "text/plain": [
       "   RANK MPAA RATINGS MOVIES       TOTAL GROSS AVERAGE GROSS MARKET SHARE\n",
       "0     1        PG-13  3,243  $113,524,789,243   $35,006,102       47.75%\n",
       "1     2            R  5,480   $63,497,164,978   $11,587,074       26.71%\n",
       "2     3           PG  1,535   $49,124,317,794   $32,002,813       20.66%\n",
       "3     4            G    395    $9,572,240,391   $24,233,520        4.03%\n",
       "4     5    Not Rated  5,820    $1,918,358,283      $329,615        0.81%\n",
       "5     6        NC-17     24       $44,850,139    $1,868,756        0.02%\n",
       "6     7         Open      5        $5,489,687    $1,097,937        0.00%\n",
       "7     8           GP      7          $552,618       $78,945        0.00%"
      ]
     },
     "execution_count": 36,
     "metadata": {},
     "output_type": "execute_result"
    }
   ],
   "source": [
    "# Quick review for the data set\n",
    "df_top_rat"
   ]
  },
  {
   "cell_type": "code",
   "execution_count": 37,
   "id": "9abcd7e6",
   "metadata": {},
   "outputs": [],
   "source": [
    "# Remove the commas, dollar sign and percentage\n",
    "sign_elimination(df_top_rat, ',','$','%')"
   ]
  },
  {
   "cell_type": "code",
   "execution_count": 38,
   "id": "4e5bf4e7",
   "metadata": {},
   "outputs": [
    {
     "data": {
      "text/plain": [
       "RANK              int64\n",
       "MPAA RATINGS     object\n",
       "MOVIES           object\n",
       "TOTAL GROSS      object\n",
       "AVERAGE GROSS    object\n",
       "MARKET SHARE     object\n",
       "dtype: object"
      ]
     },
     "execution_count": 38,
     "metadata": {},
     "output_type": "execute_result"
    }
   ],
   "source": [
    "# Check the data type for each columns.\n",
    "df_top_rat.dtypes"
   ]
  },
  {
   "cell_type": "code",
   "execution_count": 39,
   "id": "b02c0aa8",
   "metadata": {},
   "outputs": [],
   "source": [
    "# Change the data type for each column\n",
    "df_top_rat['MOVIES'] = df_top_rat['MOVIES'].astype(int)\n",
    "df_top_rat['TOTAL GROSS'] = df_top_rat['TOTAL GROSS'].astype(int)\n",
    "df_top_rat['AVERAGE GROSS'] = df_top_rat['AVERAGE GROSS'].astype(int)\n",
    "df_top_rat['MARKET SHARE'] = df_top_rat['MARKET SHARE'].astype(float) / 100"
   ]
  },
  {
   "cell_type": "code",
   "execution_count": 40,
   "id": "b7402f47",
   "metadata": {},
   "outputs": [
    {
     "data": {
      "text/html": [
       "<div>\n",
       "<style scoped>\n",
       "    .dataframe tbody tr th:only-of-type {\n",
       "        vertical-align: middle;\n",
       "    }\n",
       "\n",
       "    .dataframe tbody tr th {\n",
       "        vertical-align: top;\n",
       "    }\n",
       "\n",
       "    .dataframe thead th {\n",
       "        text-align: right;\n",
       "    }\n",
       "</style>\n",
       "<table border=\"1\" class=\"dataframe\">\n",
       "  <thead>\n",
       "    <tr style=\"text-align: right;\">\n",
       "      <th></th>\n",
       "      <th>RANK</th>\n",
       "      <th>MPAA RATINGS</th>\n",
       "      <th>MOVIES</th>\n",
       "      <th>TOTAL GROSS</th>\n",
       "      <th>AVERAGE GROSS</th>\n",
       "      <th>MARKET SHARE</th>\n",
       "    </tr>\n",
       "  </thead>\n",
       "  <tbody>\n",
       "    <tr>\n",
       "      <th>0</th>\n",
       "      <td>1</td>\n",
       "      <td>PG-13</td>\n",
       "      <td>3243</td>\n",
       "      <td>113524789243</td>\n",
       "      <td>35006102</td>\n",
       "      <td>0.4775</td>\n",
       "    </tr>\n",
       "    <tr>\n",
       "      <th>1</th>\n",
       "      <td>2</td>\n",
       "      <td>R</td>\n",
       "      <td>5480</td>\n",
       "      <td>63497164978</td>\n",
       "      <td>11587074</td>\n",
       "      <td>0.2671</td>\n",
       "    </tr>\n",
       "    <tr>\n",
       "      <th>2</th>\n",
       "      <td>3</td>\n",
       "      <td>PG</td>\n",
       "      <td>1535</td>\n",
       "      <td>49124317794</td>\n",
       "      <td>32002813</td>\n",
       "      <td>0.2066</td>\n",
       "    </tr>\n",
       "    <tr>\n",
       "      <th>3</th>\n",
       "      <td>4</td>\n",
       "      <td>G</td>\n",
       "      <td>395</td>\n",
       "      <td>9572240391</td>\n",
       "      <td>24233520</td>\n",
       "      <td>0.0403</td>\n",
       "    </tr>\n",
       "    <tr>\n",
       "      <th>4</th>\n",
       "      <td>5</td>\n",
       "      <td>Not Rated</td>\n",
       "      <td>5820</td>\n",
       "      <td>1918358283</td>\n",
       "      <td>329615</td>\n",
       "      <td>0.0081</td>\n",
       "    </tr>\n",
       "    <tr>\n",
       "      <th>5</th>\n",
       "      <td>6</td>\n",
       "      <td>NC-17</td>\n",
       "      <td>24</td>\n",
       "      <td>44850139</td>\n",
       "      <td>1868756</td>\n",
       "      <td>0.0002</td>\n",
       "    </tr>\n",
       "    <tr>\n",
       "      <th>6</th>\n",
       "      <td>7</td>\n",
       "      <td>Open</td>\n",
       "      <td>5</td>\n",
       "      <td>5489687</td>\n",
       "      <td>1097937</td>\n",
       "      <td>0.0000</td>\n",
       "    </tr>\n",
       "    <tr>\n",
       "      <th>7</th>\n",
       "      <td>8</td>\n",
       "      <td>GP</td>\n",
       "      <td>7</td>\n",
       "      <td>552618</td>\n",
       "      <td>78945</td>\n",
       "      <td>0.0000</td>\n",
       "    </tr>\n",
       "  </tbody>\n",
       "</table>\n",
       "</div>"
      ],
      "text/plain": [
       "   RANK MPAA RATINGS  MOVIES   TOTAL GROSS  AVERAGE GROSS  MARKET SHARE\n",
       "0     1        PG-13    3243  113524789243       35006102        0.4775\n",
       "1     2            R    5480   63497164978       11587074        0.2671\n",
       "2     3           PG    1535   49124317794       32002813        0.2066\n",
       "3     4            G     395    9572240391       24233520        0.0403\n",
       "4     5    Not Rated    5820    1918358283         329615        0.0081\n",
       "5     6        NC-17      24      44850139        1868756        0.0002\n",
       "6     7         Open       5       5489687        1097937        0.0000\n",
       "7     8           GP       7        552618          78945        0.0000"
      ]
     },
     "execution_count": 40,
     "metadata": {},
     "output_type": "execute_result"
    }
   ],
   "source": [
    "# Double check for the data set and columns type\n",
    "df_top_rat"
   ]
  },
  {
   "cell_type": "code",
   "execution_count": 41,
   "id": "e90906b6",
   "metadata": {},
   "outputs": [
    {
     "data": {
      "text/plain": [
       "RANK               int64\n",
       "MPAA RATINGS      object\n",
       "MOVIES             int64\n",
       "TOTAL GROSS        int64\n",
       "AVERAGE GROSS      int64\n",
       "MARKET SHARE     float64\n",
       "dtype: object"
      ]
     },
     "execution_count": 41,
     "metadata": {},
     "output_type": "execute_result"
    }
   ],
   "source": [
    "df_top_rat.dtypes"
   ]
  },
  {
   "cell_type": "markdown",
   "id": "53afbd4c",
   "metadata": {},
   "source": [
    "##### TopGrossingSources.csv"
   ]
  },
  {
   "cell_type": "code",
   "execution_count": 42,
   "id": "241f6d28",
   "metadata": {},
   "outputs": [
    {
     "data": {
      "text/html": [
       "<div>\n",
       "<style scoped>\n",
       "    .dataframe tbody tr th:only-of-type {\n",
       "        vertical-align: middle;\n",
       "    }\n",
       "\n",
       "    .dataframe tbody tr th {\n",
       "        vertical-align: top;\n",
       "    }\n",
       "\n",
       "    .dataframe thead th {\n",
       "        text-align: right;\n",
       "    }\n",
       "</style>\n",
       "<table border=\"1\" class=\"dataframe\">\n",
       "  <thead>\n",
       "    <tr style=\"text-align: right;\">\n",
       "      <th></th>\n",
       "      <th>RANK</th>\n",
       "      <th>SOURCES</th>\n",
       "      <th>MOVIES</th>\n",
       "      <th>TOTAL GROSS</th>\n",
       "      <th>AVERAGE GROSS</th>\n",
       "      <th>MARKET SHARE</th>\n",
       "    </tr>\n",
       "  </thead>\n",
       "  <tbody>\n",
       "    <tr>\n",
       "      <th>0</th>\n",
       "      <td>1</td>\n",
       "      <td>Original Screenplay</td>\n",
       "      <td>7,946</td>\n",
       "      <td>$106,375,196,782</td>\n",
       "      <td>$13,387,264</td>\n",
       "      <td>44.74%</td>\n",
       "    </tr>\n",
       "    <tr>\n",
       "      <th>1</th>\n",
       "      <td>2</td>\n",
       "      <td>Based on Fiction Book/Short Story</td>\n",
       "      <td>2,150</td>\n",
       "      <td>$47,005,613,207</td>\n",
       "      <td>$21,863,076</td>\n",
       "      <td>19.77%</td>\n",
       "    </tr>\n",
       "    <tr>\n",
       "      <th>2</th>\n",
       "      <td>3</td>\n",
       "      <td>Based on Comic/Graphic Novel</td>\n",
       "      <td>249</td>\n",
       "      <td>$23,369,989,130</td>\n",
       "      <td>$93,855,378</td>\n",
       "      <td>9.83%</td>\n",
       "    </tr>\n",
       "    <tr>\n",
       "      <th>3</th>\n",
       "      <td>4</td>\n",
       "      <td>Remake</td>\n",
       "      <td>328</td>\n",
       "      <td>$12,832,659,970</td>\n",
       "      <td>$39,123,963</td>\n",
       "      <td>5.40%</td>\n",
       "    </tr>\n",
       "    <tr>\n",
       "      <th>4</th>\n",
       "      <td>5</td>\n",
       "      <td>Based on Real Life Events</td>\n",
       "      <td>3,225</td>\n",
       "      <td>$11,398,356,297</td>\n",
       "      <td>$3,534,374</td>\n",
       "      <td>4.79%</td>\n",
       "    </tr>\n",
       "    <tr>\n",
       "      <th>5</th>\n",
       "      <td>6</td>\n",
       "      <td>Based on TV</td>\n",
       "      <td>231</td>\n",
       "      <td>$11,305,006,312</td>\n",
       "      <td>$48,939,421</td>\n",
       "      <td>4.75%</td>\n",
       "    </tr>\n",
       "    <tr>\n",
       "      <th>6</th>\n",
       "      <td>7</td>\n",
       "      <td>Based on Factual Book/Article</td>\n",
       "      <td>295</td>\n",
       "      <td>$7,443,681,990</td>\n",
       "      <td>$25,232,820</td>\n",
       "      <td>3.13%</td>\n",
       "    </tr>\n",
       "    <tr>\n",
       "      <th>7</th>\n",
       "      <td>8</td>\n",
       "      <td>Spin-Off</td>\n",
       "      <td>41</td>\n",
       "      <td>$3,833,128,331</td>\n",
       "      <td>$93,490,935</td>\n",
       "      <td>1.61%</td>\n",
       "    </tr>\n",
       "    <tr>\n",
       "      <th>8</th>\n",
       "      <td>9</td>\n",
       "      <td>Based on Folk Tale/Legend/Fairytale</td>\n",
       "      <td>78</td>\n",
       "      <td>$3,406,118,495</td>\n",
       "      <td>$43,668,186</td>\n",
       "      <td>1.43%</td>\n",
       "    </tr>\n",
       "    <tr>\n",
       "      <th>9</th>\n",
       "      <td>10</td>\n",
       "      <td>Based on Play</td>\n",
       "      <td>271</td>\n",
       "      <td>$2,111,190,923</td>\n",
       "      <td>$7,790,372</td>\n",
       "      <td>0.89%</td>\n",
       "    </tr>\n",
       "  </tbody>\n",
       "</table>\n",
       "</div>"
      ],
      "text/plain": [
       "   RANK                              SOURCES MOVIES       TOTAL GROSS  \\\n",
       "0     1                  Original Screenplay  7,946  $106,375,196,782   \n",
       "1     2    Based on Fiction Book/Short Story  2,150   $47,005,613,207   \n",
       "2     3         Based on Comic/Graphic Novel    249   $23,369,989,130   \n",
       "3     4                               Remake    328   $12,832,659,970   \n",
       "4     5            Based on Real Life Events  3,225   $11,398,356,297   \n",
       "5     6                          Based on TV    231   $11,305,006,312   \n",
       "6     7        Based on Factual Book/Article    295    $7,443,681,990   \n",
       "7     8                             Spin-Off     41    $3,833,128,331   \n",
       "8     9  Based on Folk Tale/Legend/Fairytale     78    $3,406,118,495   \n",
       "9    10                        Based on Play    271    $2,111,190,923   \n",
       "\n",
       "  AVERAGE GROSS MARKET SHARE  \n",
       "0   $13,387,264       44.74%  \n",
       "1   $21,863,076       19.77%  \n",
       "2   $93,855,378        9.83%  \n",
       "3   $39,123,963        5.40%  \n",
       "4    $3,534,374        4.79%  \n",
       "5   $48,939,421        4.75%  \n",
       "6   $25,232,820        3.13%  \n",
       "7   $93,490,935        1.61%  \n",
       "8   $43,668,186        1.43%  \n",
       "9    $7,790,372        0.89%  "
      ]
     },
     "execution_count": 42,
     "metadata": {},
     "output_type": "execute_result"
    }
   ],
   "source": [
    "# Quick review for the data set\n",
    "df_top_sour"
   ]
  },
  {
   "cell_type": "code",
   "execution_count": 43,
   "id": "6822a218",
   "metadata": {},
   "outputs": [],
   "source": [
    "# Remove the commas, dollar sign and percentage\n",
    "sign_elimination(df_top_sour, ',','$','%')"
   ]
  },
  {
   "cell_type": "code",
   "execution_count": 44,
   "id": "c9c05c87",
   "metadata": {},
   "outputs": [
    {
     "data": {
      "text/plain": [
       "RANK              int64\n",
       "SOURCES          object\n",
       "MOVIES           object\n",
       "TOTAL GROSS      object\n",
       "AVERAGE GROSS    object\n",
       "MARKET SHARE     object\n",
       "dtype: object"
      ]
     },
     "execution_count": 44,
     "metadata": {},
     "output_type": "execute_result"
    }
   ],
   "source": [
    "# Check the data type\n",
    "df_top_sour.dtypes"
   ]
  },
  {
   "cell_type": "code",
   "execution_count": 45,
   "id": "53495e57",
   "metadata": {},
   "outputs": [],
   "source": [
    "# Change the data type for those modified columns\n",
    "df_top_sour['MOVIES'] = df_top_sour['MOVIES'].astype(int)\n",
    "df_top_sour['TOTAL GROSS'] = df_top_sour['TOTAL GROSS'].astype(int)\n",
    "df_top_sour['AVERAGE GROSS'] = df_top_sour['AVERAGE GROSS'].astype(int)\n",
    "df_top_sour['MARKET SHARE'] = df_top_sour['MARKET SHARE'].astype(float) / 100"
   ]
  },
  {
   "cell_type": "code",
   "execution_count": 46,
   "id": "8ab6ca42",
   "metadata": {},
   "outputs": [
    {
     "data": {
      "text/html": [
       "<div>\n",
       "<style scoped>\n",
       "    .dataframe tbody tr th:only-of-type {\n",
       "        vertical-align: middle;\n",
       "    }\n",
       "\n",
       "    .dataframe tbody tr th {\n",
       "        vertical-align: top;\n",
       "    }\n",
       "\n",
       "    .dataframe thead th {\n",
       "        text-align: right;\n",
       "    }\n",
       "</style>\n",
       "<table border=\"1\" class=\"dataframe\">\n",
       "  <thead>\n",
       "    <tr style=\"text-align: right;\">\n",
       "      <th></th>\n",
       "      <th>RANK</th>\n",
       "      <th>SOURCES</th>\n",
       "      <th>MOVIES</th>\n",
       "      <th>TOTAL GROSS</th>\n",
       "      <th>AVERAGE GROSS</th>\n",
       "      <th>MARKET SHARE</th>\n",
       "    </tr>\n",
       "  </thead>\n",
       "  <tbody>\n",
       "    <tr>\n",
       "      <th>0</th>\n",
       "      <td>1</td>\n",
       "      <td>Original Screenplay</td>\n",
       "      <td>7946</td>\n",
       "      <td>106375196782</td>\n",
       "      <td>13387264</td>\n",
       "      <td>0.4474</td>\n",
       "    </tr>\n",
       "    <tr>\n",
       "      <th>1</th>\n",
       "      <td>2</td>\n",
       "      <td>Based on Fiction Book/Short Story</td>\n",
       "      <td>2150</td>\n",
       "      <td>47005613207</td>\n",
       "      <td>21863076</td>\n",
       "      <td>0.1977</td>\n",
       "    </tr>\n",
       "    <tr>\n",
       "      <th>2</th>\n",
       "      <td>3</td>\n",
       "      <td>Based on Comic/Graphic Novel</td>\n",
       "      <td>249</td>\n",
       "      <td>23369989130</td>\n",
       "      <td>93855378</td>\n",
       "      <td>0.0983</td>\n",
       "    </tr>\n",
       "    <tr>\n",
       "      <th>3</th>\n",
       "      <td>4</td>\n",
       "      <td>Remake</td>\n",
       "      <td>328</td>\n",
       "      <td>12832659970</td>\n",
       "      <td>39123963</td>\n",
       "      <td>0.0540</td>\n",
       "    </tr>\n",
       "    <tr>\n",
       "      <th>4</th>\n",
       "      <td>5</td>\n",
       "      <td>Based on Real Life Events</td>\n",
       "      <td>3225</td>\n",
       "      <td>11398356297</td>\n",
       "      <td>3534374</td>\n",
       "      <td>0.0479</td>\n",
       "    </tr>\n",
       "    <tr>\n",
       "      <th>5</th>\n",
       "      <td>6</td>\n",
       "      <td>Based on TV</td>\n",
       "      <td>231</td>\n",
       "      <td>11305006312</td>\n",
       "      <td>48939421</td>\n",
       "      <td>0.0475</td>\n",
       "    </tr>\n",
       "    <tr>\n",
       "      <th>6</th>\n",
       "      <td>7</td>\n",
       "      <td>Based on Factual Book/Article</td>\n",
       "      <td>295</td>\n",
       "      <td>7443681990</td>\n",
       "      <td>25232820</td>\n",
       "      <td>0.0313</td>\n",
       "    </tr>\n",
       "    <tr>\n",
       "      <th>7</th>\n",
       "      <td>8</td>\n",
       "      <td>Spin-Off</td>\n",
       "      <td>41</td>\n",
       "      <td>3833128331</td>\n",
       "      <td>93490935</td>\n",
       "      <td>0.0161</td>\n",
       "    </tr>\n",
       "    <tr>\n",
       "      <th>8</th>\n",
       "      <td>9</td>\n",
       "      <td>Based on Folk Tale/Legend/Fairytale</td>\n",
       "      <td>78</td>\n",
       "      <td>3406118495</td>\n",
       "      <td>43668186</td>\n",
       "      <td>0.0143</td>\n",
       "    </tr>\n",
       "    <tr>\n",
       "      <th>9</th>\n",
       "      <td>10</td>\n",
       "      <td>Based on Play</td>\n",
       "      <td>271</td>\n",
       "      <td>2111190923</td>\n",
       "      <td>7790372</td>\n",
       "      <td>0.0089</td>\n",
       "    </tr>\n",
       "  </tbody>\n",
       "</table>\n",
       "</div>"
      ],
      "text/plain": [
       "   RANK                              SOURCES  MOVIES   TOTAL GROSS  \\\n",
       "0     1                  Original Screenplay    7946  106375196782   \n",
       "1     2    Based on Fiction Book/Short Story    2150   47005613207   \n",
       "2     3         Based on Comic/Graphic Novel     249   23369989130   \n",
       "3     4                               Remake     328   12832659970   \n",
       "4     5            Based on Real Life Events    3225   11398356297   \n",
       "5     6                          Based on TV     231   11305006312   \n",
       "6     7        Based on Factual Book/Article     295    7443681990   \n",
       "7     8                             Spin-Off      41    3833128331   \n",
       "8     9  Based on Folk Tale/Legend/Fairytale      78    3406118495   \n",
       "9    10                        Based on Play     271    2111190923   \n",
       "\n",
       "   AVERAGE GROSS  MARKET SHARE  \n",
       "0       13387264        0.4474  \n",
       "1       21863076        0.1977  \n",
       "2       93855378        0.0983  \n",
       "3       39123963        0.0540  \n",
       "4        3534374        0.0479  \n",
       "5       48939421        0.0475  \n",
       "6       25232820        0.0313  \n",
       "7       93490935        0.0161  \n",
       "8       43668186        0.0143  \n",
       "9        7790372        0.0089  "
      ]
     },
     "execution_count": 46,
     "metadata": {},
     "output_type": "execute_result"
    }
   ],
   "source": [
    "# Final check for the date set and columns type\n",
    "df_top_sour"
   ]
  },
  {
   "cell_type": "code",
   "execution_count": 47,
   "id": "7d613bac",
   "metadata": {},
   "outputs": [
    {
     "data": {
      "text/plain": [
       "RANK               int64\n",
       "SOURCES           object\n",
       "MOVIES             int64\n",
       "TOTAL GROSS        int64\n",
       "AVERAGE GROSS      int64\n",
       "MARKET SHARE     float64\n",
       "dtype: object"
      ]
     },
     "execution_count": 47,
     "metadata": {},
     "output_type": "execute_result"
    }
   ],
   "source": [
    "df_top_sour.dtypes"
   ]
  },
  {
   "cell_type": "markdown",
   "id": "ca9bd834",
   "metadata": {},
   "source": [
    "##### TopProductionMethods.csv"
   ]
  },
  {
   "cell_type": "code",
   "execution_count": 48,
   "id": "641de259",
   "metadata": {},
   "outputs": [
    {
     "data": {
      "text/html": [
       "<div>\n",
       "<style scoped>\n",
       "    .dataframe tbody tr th:only-of-type {\n",
       "        vertical-align: middle;\n",
       "    }\n",
       "\n",
       "    .dataframe tbody tr th {\n",
       "        vertical-align: top;\n",
       "    }\n",
       "\n",
       "    .dataframe thead th {\n",
       "        text-align: right;\n",
       "    }\n",
       "</style>\n",
       "<table border=\"1\" class=\"dataframe\">\n",
       "  <thead>\n",
       "    <tr style=\"text-align: right;\">\n",
       "      <th></th>\n",
       "      <th>RANK</th>\n",
       "      <th>PRODUCTION METHODS</th>\n",
       "      <th>MOVIES</th>\n",
       "      <th>TOTAL GROSS</th>\n",
       "      <th>AVERAGE GROSS</th>\n",
       "      <th>MARKET SHARE</th>\n",
       "    </tr>\n",
       "  </thead>\n",
       "  <tbody>\n",
       "    <tr>\n",
       "      <th>0</th>\n",
       "      <td>1</td>\n",
       "      <td>Live Action</td>\n",
       "      <td>14,613</td>\n",
       "      <td>$179,637,201,848</td>\n",
       "      <td>$12,292,972</td>\n",
       "      <td>75.56%</td>\n",
       "    </tr>\n",
       "    <tr>\n",
       "      <th>1</th>\n",
       "      <td>2</td>\n",
       "      <td>Animation/Live Action</td>\n",
       "      <td>264</td>\n",
       "      <td>$30,346,622,254</td>\n",
       "      <td>$114,949,327</td>\n",
       "      <td>12.76%</td>\n",
       "    </tr>\n",
       "    <tr>\n",
       "      <th>2</th>\n",
       "      <td>3</td>\n",
       "      <td>Digital Animation</td>\n",
       "      <td>365</td>\n",
       "      <td>$23,920,180,508</td>\n",
       "      <td>$65,534,741</td>\n",
       "      <td>10.06%</td>\n",
       "    </tr>\n",
       "    <tr>\n",
       "      <th>3</th>\n",
       "      <td>4</td>\n",
       "      <td>Hand Animation</td>\n",
       "      <td>164</td>\n",
       "      <td>$2,960,497,487</td>\n",
       "      <td>$18,051,814</td>\n",
       "      <td>1.25%</td>\n",
       "    </tr>\n",
       "    <tr>\n",
       "      <th>4</th>\n",
       "      <td>5</td>\n",
       "      <td>Stop-Motion Animation</td>\n",
       "      <td>37</td>\n",
       "      <td>$676,490,120</td>\n",
       "      <td>$18,283,517</td>\n",
       "      <td>0.28%</td>\n",
       "    </tr>\n",
       "    <tr>\n",
       "      <th>5</th>\n",
       "      <td>6</td>\n",
       "      <td>Multiple Production Methods</td>\n",
       "      <td>26</td>\n",
       "      <td>$43,728,300</td>\n",
       "      <td>$1,681,858</td>\n",
       "      <td>0.02%</td>\n",
       "    </tr>\n",
       "    <tr>\n",
       "      <th>6</th>\n",
       "      <td>7</td>\n",
       "      <td>Rotoscoping</td>\n",
       "      <td>4</td>\n",
       "      <td>$8,468,385</td>\n",
       "      <td>$2,117,096</td>\n",
       "      <td>0.00%</td>\n",
       "    </tr>\n",
       "  </tbody>\n",
       "</table>\n",
       "</div>"
      ],
      "text/plain": [
       "   RANK           PRODUCTION METHODS  MOVIES       TOTAL GROSS AVERAGE GROSS  \\\n",
       "0     1                  Live Action  14,613  $179,637,201,848   $12,292,972   \n",
       "1     2        Animation/Live Action     264   $30,346,622,254  $114,949,327   \n",
       "2     3            Digital Animation     365   $23,920,180,508   $65,534,741   \n",
       "3     4               Hand Animation     164    $2,960,497,487   $18,051,814   \n",
       "4     5        Stop-Motion Animation      37      $676,490,120   $18,283,517   \n",
       "5     6  Multiple Production Methods      26       $43,728,300    $1,681,858   \n",
       "6     7                  Rotoscoping       4        $8,468,385    $2,117,096   \n",
       "\n",
       "  MARKET SHARE  \n",
       "0       75.56%  \n",
       "1       12.76%  \n",
       "2       10.06%  \n",
       "3        1.25%  \n",
       "4        0.28%  \n",
       "5        0.02%  \n",
       "6        0.00%  "
      ]
     },
     "execution_count": 48,
     "metadata": {},
     "output_type": "execute_result"
    }
   ],
   "source": [
    "# Quick review for the data set\n",
    "df_top_meth"
   ]
  },
  {
   "cell_type": "code",
   "execution_count": 49,
   "id": "0e54dd42",
   "metadata": {},
   "outputs": [],
   "source": [
    "# Remove the dollar sign, commas and percentage\n",
    "sign_elimination(df_top_meth, ',','$','%')"
   ]
  },
  {
   "cell_type": "code",
   "execution_count": 50,
   "id": "1eb0e4c6",
   "metadata": {},
   "outputs": [
    {
     "data": {
      "text/plain": [
       "RANK                   int64\n",
       "PRODUCTION METHODS    object\n",
       "MOVIES                object\n",
       "TOTAL GROSS           object\n",
       "AVERAGE GROSS         object\n",
       "MARKET SHARE          object\n",
       "dtype: object"
      ]
     },
     "execution_count": 50,
     "metadata": {},
     "output_type": "execute_result"
    }
   ],
   "source": [
    "# Check the columns type\n",
    "df_top_meth.dtypes"
   ]
  },
  {
   "cell_type": "code",
   "execution_count": 51,
   "id": "b24395df",
   "metadata": {},
   "outputs": [],
   "source": [
    "# Change the column type for modified columns\n",
    "df_top_meth['MOVIES'] = df_top_meth['MOVIES'].astype(int)\n",
    "df_top_meth['TOTAL GROSS'] = df_top_meth['TOTAL GROSS'].astype(int)\n",
    "df_top_meth['AVERAGE GROSS'] = df_top_meth['AVERAGE GROSS'].astype(int)\n",
    "df_top_meth['MARKET SHARE'] = df_top_meth['MARKET SHARE'].astype(float) / 100"
   ]
  },
  {
   "cell_type": "code",
   "execution_count": 52,
   "id": "75ab3cb0",
   "metadata": {},
   "outputs": [
    {
     "data": {
      "text/html": [
       "<div>\n",
       "<style scoped>\n",
       "    .dataframe tbody tr th:only-of-type {\n",
       "        vertical-align: middle;\n",
       "    }\n",
       "\n",
       "    .dataframe tbody tr th {\n",
       "        vertical-align: top;\n",
       "    }\n",
       "\n",
       "    .dataframe thead th {\n",
       "        text-align: right;\n",
       "    }\n",
       "</style>\n",
       "<table border=\"1\" class=\"dataframe\">\n",
       "  <thead>\n",
       "    <tr style=\"text-align: right;\">\n",
       "      <th></th>\n",
       "      <th>RANK</th>\n",
       "      <th>PRODUCTION METHODS</th>\n",
       "      <th>MOVIES</th>\n",
       "      <th>TOTAL GROSS</th>\n",
       "      <th>AVERAGE GROSS</th>\n",
       "      <th>MARKET SHARE</th>\n",
       "    </tr>\n",
       "  </thead>\n",
       "  <tbody>\n",
       "    <tr>\n",
       "      <th>0</th>\n",
       "      <td>1</td>\n",
       "      <td>Live Action</td>\n",
       "      <td>14613</td>\n",
       "      <td>179637201848</td>\n",
       "      <td>12292972</td>\n",
       "      <td>0.7556</td>\n",
       "    </tr>\n",
       "    <tr>\n",
       "      <th>1</th>\n",
       "      <td>2</td>\n",
       "      <td>Animation/Live Action</td>\n",
       "      <td>264</td>\n",
       "      <td>30346622254</td>\n",
       "      <td>114949327</td>\n",
       "      <td>0.1276</td>\n",
       "    </tr>\n",
       "    <tr>\n",
       "      <th>2</th>\n",
       "      <td>3</td>\n",
       "      <td>Digital Animation</td>\n",
       "      <td>365</td>\n",
       "      <td>23920180508</td>\n",
       "      <td>65534741</td>\n",
       "      <td>0.1006</td>\n",
       "    </tr>\n",
       "    <tr>\n",
       "      <th>3</th>\n",
       "      <td>4</td>\n",
       "      <td>Hand Animation</td>\n",
       "      <td>164</td>\n",
       "      <td>2960497487</td>\n",
       "      <td>18051814</td>\n",
       "      <td>0.0125</td>\n",
       "    </tr>\n",
       "    <tr>\n",
       "      <th>4</th>\n",
       "      <td>5</td>\n",
       "      <td>Stop-Motion Animation</td>\n",
       "      <td>37</td>\n",
       "      <td>676490120</td>\n",
       "      <td>18283517</td>\n",
       "      <td>0.0028</td>\n",
       "    </tr>\n",
       "    <tr>\n",
       "      <th>5</th>\n",
       "      <td>6</td>\n",
       "      <td>Multiple Production Methods</td>\n",
       "      <td>26</td>\n",
       "      <td>43728300</td>\n",
       "      <td>1681858</td>\n",
       "      <td>0.0002</td>\n",
       "    </tr>\n",
       "    <tr>\n",
       "      <th>6</th>\n",
       "      <td>7</td>\n",
       "      <td>Rotoscoping</td>\n",
       "      <td>4</td>\n",
       "      <td>8468385</td>\n",
       "      <td>2117096</td>\n",
       "      <td>0.0000</td>\n",
       "    </tr>\n",
       "  </tbody>\n",
       "</table>\n",
       "</div>"
      ],
      "text/plain": [
       "   RANK           PRODUCTION METHODS  MOVIES   TOTAL GROSS  AVERAGE GROSS  \\\n",
       "0     1                  Live Action   14613  179637201848       12292972   \n",
       "1     2        Animation/Live Action     264   30346622254      114949327   \n",
       "2     3            Digital Animation     365   23920180508       65534741   \n",
       "3     4               Hand Animation     164    2960497487       18051814   \n",
       "4     5        Stop-Motion Animation      37     676490120       18283517   \n",
       "5     6  Multiple Production Methods      26      43728300        1681858   \n",
       "6     7                  Rotoscoping       4       8468385        2117096   \n",
       "\n",
       "   MARKET SHARE  \n",
       "0        0.7556  \n",
       "1        0.1276  \n",
       "2        0.1006  \n",
       "3        0.0125  \n",
       "4        0.0028  \n",
       "5        0.0002  \n",
       "6        0.0000  "
      ]
     },
     "execution_count": 52,
     "metadata": {},
     "output_type": "execute_result"
    }
   ],
   "source": [
    "# Final check for the date set and columns type\n",
    "df_top_meth"
   ]
  },
  {
   "cell_type": "code",
   "execution_count": 53,
   "id": "299978d1",
   "metadata": {},
   "outputs": [
    {
     "data": {
      "text/plain": [
       "RANK                    int64\n",
       "PRODUCTION METHODS     object\n",
       "MOVIES                  int64\n",
       "TOTAL GROSS             int64\n",
       "AVERAGE GROSS           int64\n",
       "MARKET SHARE          float64\n",
       "dtype: object"
      ]
     },
     "execution_count": 53,
     "metadata": {},
     "output_type": "execute_result"
    }
   ],
   "source": [
    "df_top_meth.dtypes"
   ]
  },
  {
   "cell_type": "markdown",
   "id": "31b6f67a",
   "metadata": {},
   "source": [
    "##### WideReleasesCount.csv"
   ]
  },
  {
   "cell_type": "code",
   "execution_count": 54,
   "id": "2d28979f",
   "metadata": {},
   "outputs": [
    {
     "data": {
      "text/html": [
       "<div>\n",
       "<style scoped>\n",
       "    .dataframe tbody tr th:only-of-type {\n",
       "        vertical-align: middle;\n",
       "    }\n",
       "\n",
       "    .dataframe tbody tr th {\n",
       "        vertical-align: top;\n",
       "    }\n",
       "\n",
       "    .dataframe thead th {\n",
       "        text-align: right;\n",
       "    }\n",
       "</style>\n",
       "<table border=\"1\" class=\"dataframe\">\n",
       "  <thead>\n",
       "    <tr style=\"text-align: right;\">\n",
       "      <th></th>\n",
       "      <th>YEAR</th>\n",
       "      <th>WARNER BROS</th>\n",
       "      <th>WALT DISNEY</th>\n",
       "      <th>20TH CENTURY FOX</th>\n",
       "      <th>PARAMOUNT PICTURES</th>\n",
       "      <th>SONY PICTURES</th>\n",
       "      <th>UNIVERSAL</th>\n",
       "      <th>TOTAL MAJOR 6</th>\n",
       "      <th>TOTAL OTHER STUDIOS</th>\n",
       "      <th>Unnamed: 9</th>\n",
       "    </tr>\n",
       "  </thead>\n",
       "  <tbody>\n",
       "    <tr>\n",
       "      <th>0</th>\n",
       "      <td>2021</td>\n",
       "      <td>17</td>\n",
       "      <td>7</td>\n",
       "      <td>0</td>\n",
       "      <td>4</td>\n",
       "      <td>16</td>\n",
       "      <td>17</td>\n",
       "      <td>61</td>\n",
       "      <td>38</td>\n",
       "      <td>NaN</td>\n",
       "    </tr>\n",
       "    <tr>\n",
       "      <th>1</th>\n",
       "      <td>2020</td>\n",
       "      <td>5</td>\n",
       "      <td>3</td>\n",
       "      <td>1</td>\n",
       "      <td>3</td>\n",
       "      <td>9</td>\n",
       "      <td>13</td>\n",
       "      <td>34</td>\n",
       "      <td>23</td>\n",
       "      <td>NaN</td>\n",
       "    </tr>\n",
       "    <tr>\n",
       "      <th>2</th>\n",
       "      <td>2019</td>\n",
       "      <td>18</td>\n",
       "      <td>10</td>\n",
       "      <td>11</td>\n",
       "      <td>9</td>\n",
       "      <td>18</td>\n",
       "      <td>21</td>\n",
       "      <td>87</td>\n",
       "      <td>44</td>\n",
       "      <td>NaN</td>\n",
       "    </tr>\n",
       "    <tr>\n",
       "      <th>3</th>\n",
       "      <td>2018</td>\n",
       "      <td>19</td>\n",
       "      <td>10</td>\n",
       "      <td>11</td>\n",
       "      <td>10</td>\n",
       "      <td>16</td>\n",
       "      <td>20</td>\n",
       "      <td>86</td>\n",
       "      <td>58</td>\n",
       "      <td>NaN</td>\n",
       "    </tr>\n",
       "    <tr>\n",
       "      <th>4</th>\n",
       "      <td>2017</td>\n",
       "      <td>18</td>\n",
       "      <td>8</td>\n",
       "      <td>14</td>\n",
       "      <td>10</td>\n",
       "      <td>16</td>\n",
       "      <td>15</td>\n",
       "      <td>81</td>\n",
       "      <td>50</td>\n",
       "      <td>NaN</td>\n",
       "    </tr>\n",
       "  </tbody>\n",
       "</table>\n",
       "</div>"
      ],
      "text/plain": [
       "   YEAR  WARNER BROS  WALT DISNEY  20TH CENTURY FOX  PARAMOUNT PICTURES  \\\n",
       "0  2021           17            7                 0                   4   \n",
       "1  2020            5            3                 1                   3   \n",
       "2  2019           18           10                11                   9   \n",
       "3  2018           19           10                11                  10   \n",
       "4  2017           18            8                14                  10   \n",
       "\n",
       "   SONY PICTURES  UNIVERSAL  TOTAL MAJOR 6  TOTAL OTHER STUDIOS  Unnamed: 9  \n",
       "0             16         17             61                   38         NaN  \n",
       "1              9         13             34                   23         NaN  \n",
       "2             18         21             87                   44         NaN  \n",
       "3             16         20             86                   58         NaN  \n",
       "4             16         15             81                   50         NaN  "
      ]
     },
     "execution_count": 54,
     "metadata": {},
     "output_type": "execute_result"
    }
   ],
   "source": [
    "df_wide_release.head()"
   ]
  },
  {
   "cell_type": "code",
   "execution_count": 55,
   "id": "a9c89ffe",
   "metadata": {},
   "outputs": [],
   "source": [
    "# Remove the unknow columns\n",
    "df_wide_release.drop('Unnamed: 9', axis = 1, inplace = True)"
   ]
  },
  {
   "cell_type": "code",
   "execution_count": 56,
   "id": "38b68c67",
   "metadata": {},
   "outputs": [
    {
     "data": {
      "text/plain": [
       "YEAR                   int64\n",
       "WARNER BROS            int64\n",
       "WALT DISNEY            int64\n",
       "20TH CENTURY FOX       int64\n",
       "PARAMOUNT PICTURES     int64\n",
       "SONY PICTURES          int64\n",
       "UNIVERSAL              int64\n",
       "TOTAL MAJOR 6          int64\n",
       "TOTAL OTHER STUDIOS    int64\n",
       "dtype: object"
      ]
     },
     "execution_count": 56,
     "metadata": {},
     "output_type": "execute_result"
    }
   ],
   "source": [
    "# Check the column type\n",
    "df_wide_release.dtypes"
   ]
  },
  {
   "cell_type": "markdown",
   "id": "a5b8c943",
   "metadata": {},
   "source": [
    "There is no further cleaning for this data set.\n",
    "We can strat the extract data from this data set with the top distributor data set\n",
    "since we found some relationship for distributor name in both data set."
   ]
  },
  {
   "cell_type": "markdown",
   "id": "dda11a78",
   "metadata": {},
   "source": [
    "##### Data analysis"
   ]
  },
  {
   "cell_type": "code",
   "execution_count": 57,
   "id": "b670734b",
   "metadata": {},
   "outputs": [],
   "source": [
    "# Create a new data frame and merge annual_sales and highest grossers in the column YEAR\n",
    "df1 = df_annual_sales\n",
    "# as: annual sales dataframe, hg = highest grosser dataframe\n",
    "df1 = df1.merge(df_highest_grossers, how = 'left', on = 'YEAR', suffixes =('_as','_hg'))"
   ]
  },
  {
   "cell_type": "code",
   "execution_count": 58,
   "id": "461aa06e",
   "metadata": {},
   "outputs": [
    {
     "data": {
      "text/html": [
       "<div>\n",
       "<style scoped>\n",
       "    .dataframe tbody tr th:only-of-type {\n",
       "        vertical-align: middle;\n",
       "    }\n",
       "\n",
       "    .dataframe tbody tr th {\n",
       "        vertical-align: top;\n",
       "    }\n",
       "\n",
       "    .dataframe thead th {\n",
       "        text-align: right;\n",
       "    }\n",
       "</style>\n",
       "<table border=\"1\" class=\"dataframe\">\n",
       "  <thead>\n",
       "    <tr style=\"text-align: right;\">\n",
       "      <th></th>\n",
       "      <th>YEAR</th>\n",
       "      <th>TICKETS SOLD_as</th>\n",
       "      <th>TOTAL BOX OFFICE</th>\n",
       "      <th>TOTAL INFLATION ADJUSTED BOX OFFICE</th>\n",
       "      <th>AVERAGE TICKET PRICE</th>\n",
       "      <th>MOVIE</th>\n",
       "      <th>GENRE</th>\n",
       "      <th>MPAA RATING</th>\n",
       "      <th>DISTRIBUTOR</th>\n",
       "      <th>TOTAL FOR YEAR</th>\n",
       "      <th>TOTAL IN 2019 DOLLARS</th>\n",
       "      <th>TICKETS SOLD_hg</th>\n",
       "    </tr>\n",
       "  </thead>\n",
       "  <tbody>\n",
       "    <tr>\n",
       "      <th>0</th>\n",
       "      <td>2021</td>\n",
       "      <td>423774881</td>\n",
       "      <td>3881777912</td>\n",
       "      <td>3881777912</td>\n",
       "      <td>9.16</td>\n",
       "      <td>Shang-Chi and the Legend of the Ten Rings</td>\n",
       "      <td>NaN</td>\n",
       "      <td>PG-13</td>\n",
       "      <td>Walt Disney</td>\n",
       "      <td>224226704</td>\n",
       "      <td>224226704</td>\n",
       "      <td>24478897</td>\n",
       "    </tr>\n",
       "    <tr>\n",
       "      <th>1</th>\n",
       "      <td>2020</td>\n",
       "      <td>223638958</td>\n",
       "      <td>2048534616</td>\n",
       "      <td>2048534616</td>\n",
       "      <td>9.16</td>\n",
       "      <td>Bad Boys For Life</td>\n",
       "      <td>NaN</td>\n",
       "      <td>R</td>\n",
       "      <td>Sony Pictures</td>\n",
       "      <td>204417855</td>\n",
       "      <td>204417848</td>\n",
       "      <td>22316359</td>\n",
       "    </tr>\n",
       "    <tr>\n",
       "      <th>2</th>\n",
       "      <td>2019</td>\n",
       "      <td>1228541629</td>\n",
       "      <td>11253443955</td>\n",
       "      <td>11253444050</td>\n",
       "      <td>9.16</td>\n",
       "      <td>Avengers: Endgame</td>\n",
       "      <td>NaN</td>\n",
       "      <td>PG-13</td>\n",
       "      <td>Walt Disney</td>\n",
       "      <td>858373000</td>\n",
       "      <td>858373002</td>\n",
       "      <td>93708843</td>\n",
       "    </tr>\n",
       "    <tr>\n",
       "      <th>3</th>\n",
       "      <td>2018</td>\n",
       "      <td>1311536128</td>\n",
       "      <td>11948096650</td>\n",
       "      <td>12013670952</td>\n",
       "      <td>9.11</td>\n",
       "      <td>Black Panther</td>\n",
       "      <td>Action</td>\n",
       "      <td>PG-13</td>\n",
       "      <td>Walt Disney</td>\n",
       "      <td>700059566</td>\n",
       "      <td>703901821</td>\n",
       "      <td>76845177</td>\n",
       "    </tr>\n",
       "    <tr>\n",
       "      <th>4</th>\n",
       "      <td>2017</td>\n",
       "      <td>1225639761</td>\n",
       "      <td>10993991460</td>\n",
       "      <td>11226860216</td>\n",
       "      <td>8.97</td>\n",
       "      <td>Star Wars Ep. VIII: The Last Jedi</td>\n",
       "      <td>Action</td>\n",
       "      <td>PG-13</td>\n",
       "      <td>Walt Disney</td>\n",
       "      <td>517218368</td>\n",
       "      <td>528173936</td>\n",
       "      <td>57660910</td>\n",
       "    </tr>\n",
       "    <tr>\n",
       "      <th>5</th>\n",
       "      <td>2016</td>\n",
       "      <td>1302556378</td>\n",
       "      <td>11267115924</td>\n",
       "      <td>11931416424</td>\n",
       "      <td>8.65</td>\n",
       "      <td>Finding Dory</td>\n",
       "      <td>Action</td>\n",
       "      <td>PG</td>\n",
       "      <td>Walt Disney</td>\n",
       "      <td>486295561</td>\n",
       "      <td>514967322</td>\n",
       "      <td>56219140</td>\n",
       "    </tr>\n",
       "    <tr>\n",
       "      <th>6</th>\n",
       "      <td>2015</td>\n",
       "      <td>1323356776</td>\n",
       "      <td>11155900636</td>\n",
       "      <td>12121948075</td>\n",
       "      <td>8.43</td>\n",
       "      <td>Star Wars Ep. VII: The Force Awakens</td>\n",
       "      <td>Action</td>\n",
       "      <td>PG-13</td>\n",
       "      <td>Walt Disney</td>\n",
       "      <td>742208942</td>\n",
       "      <td>806480887</td>\n",
       "      <td>88043765</td>\n",
       "    </tr>\n",
       "    <tr>\n",
       "      <th>7</th>\n",
       "      <td>2014</td>\n",
       "      <td>1257402920</td>\n",
       "      <td>10272985008</td>\n",
       "      <td>11517810744</td>\n",
       "      <td>8.17</td>\n",
       "      <td>Guardians of the Galaxy</td>\n",
       "      <td>Adventure</td>\n",
       "      <td>PG-13</td>\n",
       "      <td>Walt Disney</td>\n",
       "      <td>333055258</td>\n",
       "      <td>373413235</td>\n",
       "      <td>40765637</td>\n",
       "    </tr>\n",
       "    <tr>\n",
       "      <th>8</th>\n",
       "      <td>2013</td>\n",
       "      <td>1339168926</td>\n",
       "      <td>10887446341</td>\n",
       "      <td>12266787382</td>\n",
       "      <td>8.13</td>\n",
       "      <td>Iron Man 3</td>\n",
       "      <td>Adventure</td>\n",
       "      <td>PG-13</td>\n",
       "      <td>Walt Disney</td>\n",
       "      <td>408992272</td>\n",
       "      <td>460808016</td>\n",
       "      <td>50306552</td>\n",
       "    </tr>\n",
       "    <tr>\n",
       "      <th>9</th>\n",
       "      <td>2012</td>\n",
       "      <td>1380921942</td>\n",
       "      <td>10992141616</td>\n",
       "      <td>12649244986</td>\n",
       "      <td>7.96</td>\n",
       "      <td>The Avengers</td>\n",
       "      <td>Adventure</td>\n",
       "      <td>PG-13</td>\n",
       "      <td>Walt Disney</td>\n",
       "      <td>623357910</td>\n",
       "      <td>717331462</td>\n",
       "      <td>78311295</td>\n",
       "    </tr>\n",
       "    <tr>\n",
       "      <th>10</th>\n",
       "      <td>2011</td>\n",
       "      <td>1282915168</td>\n",
       "      <td>10173519704</td>\n",
       "      <td>11751502955</td>\n",
       "      <td>7.93</td>\n",
       "      <td>Harry Potter and the Deathly Hallows: Part II</td>\n",
       "      <td>Action</td>\n",
       "      <td>PG-13</td>\n",
       "      <td>Warner Bros.</td>\n",
       "      <td>381011219</td>\n",
       "      <td>440108798</td>\n",
       "      <td>48046812</td>\n",
       "    </tr>\n",
       "    <tr>\n",
       "      <th>11</th>\n",
       "      <td>2010</td>\n",
       "      <td>1328549021</td>\n",
       "      <td>10482254025</td>\n",
       "      <td>12169509032</td>\n",
       "      <td>7.89</td>\n",
       "      <td>Toy Story 3</td>\n",
       "      <td>Action</td>\n",
       "      <td>G</td>\n",
       "      <td>Walt Disney</td>\n",
       "      <td>415004880</td>\n",
       "      <td>481805411</td>\n",
       "      <td>52598844</td>\n",
       "    </tr>\n",
       "    <tr>\n",
       "      <th>12</th>\n",
       "      <td>2009</td>\n",
       "      <td>1418567388</td>\n",
       "      <td>10639257284</td>\n",
       "      <td>12994051137</td>\n",
       "      <td>7.50</td>\n",
       "      <td>Transformers: Revenge of the Fallen</td>\n",
       "      <td>Action</td>\n",
       "      <td>PG-13</td>\n",
       "      <td>Paramount Pictures</td>\n",
       "      <td>402111870</td>\n",
       "      <td>491112631</td>\n",
       "      <td>53614916</td>\n",
       "    </tr>\n",
       "    <tr>\n",
       "      <th>13</th>\n",
       "      <td>2008</td>\n",
       "      <td>1358042073</td>\n",
       "      <td>9750744148</td>\n",
       "      <td>12439665380</td>\n",
       "      <td>7.18</td>\n",
       "      <td>The Dark Knight</td>\n",
       "      <td>Adventure</td>\n",
       "      <td>PG-13</td>\n",
       "      <td>Warner Bros.</td>\n",
       "      <td>531001578</td>\n",
       "      <td>677433772</td>\n",
       "      <td>73955652</td>\n",
       "    </tr>\n",
       "    <tr>\n",
       "      <th>14</th>\n",
       "      <td>2007</td>\n",
       "      <td>1420036680</td>\n",
       "      <td>9769854914</td>\n",
       "      <td>13007535993</td>\n",
       "      <td>6.88</td>\n",
       "      <td>Spider-Man 3</td>\n",
       "      <td>Adventure</td>\n",
       "      <td>PG-13</td>\n",
       "      <td>Sony Pictures</td>\n",
       "      <td>336530303</td>\n",
       "      <td>448054878</td>\n",
       "      <td>48914288</td>\n",
       "    </tr>\n",
       "    <tr>\n",
       "      <th>15</th>\n",
       "      <td>2006</td>\n",
       "      <td>1398738283</td>\n",
       "      <td>9161738221</td>\n",
       "      <td>12812442671</td>\n",
       "      <td>6.55</td>\n",
       "      <td>Pirates of the Caribbean: Dead Man’s Chest</td>\n",
       "      <td>Action</td>\n",
       "      <td>PG-13</td>\n",
       "      <td>Walt Disney</td>\n",
       "      <td>423315812</td>\n",
       "      <td>591995851</td>\n",
       "      <td>64628368</td>\n",
       "    </tr>\n",
       "    <tr>\n",
       "      <th>16</th>\n",
       "      <td>2005</td>\n",
       "      <td>1372980280</td>\n",
       "      <td>8800805718</td>\n",
       "      <td>12576499367</td>\n",
       "      <td>6.41</td>\n",
       "      <td>Star Wars Ep. III: Revenge of the Sith</td>\n",
       "      <td>Action</td>\n",
       "      <td>PG-13</td>\n",
       "      <td>20th Century Fox</td>\n",
       "      <td>380270577</td>\n",
       "      <td>543413171</td>\n",
       "      <td>59324582</td>\n",
       "    </tr>\n",
       "    <tr>\n",
       "      <th>17</th>\n",
       "      <td>2004</td>\n",
       "      <td>1495651298</td>\n",
       "      <td>9287996519</td>\n",
       "      <td>13700165883</td>\n",
       "      <td>6.21</td>\n",
       "      <td>Shrek 2</td>\n",
       "      <td>Adventure</td>\n",
       "      <td>PG</td>\n",
       "      <td>Dreamworks SKG</td>\n",
       "      <td>441226247</td>\n",
       "      <td>650826473</td>\n",
       "      <td>71050925</td>\n",
       "    </tr>\n",
       "    <tr>\n",
       "      <th>18</th>\n",
       "      <td>2003</td>\n",
       "      <td>1524589620</td>\n",
       "      <td>9193277289</td>\n",
       "      <td>13965240914</td>\n",
       "      <td>6.03</td>\n",
       "      <td>Finding Nemo</td>\n",
       "      <td>Adventure</td>\n",
       "      <td>G</td>\n",
       "      <td>Walt Disney</td>\n",
       "      <td>339714367</td>\n",
       "      <td>516050346</td>\n",
       "      <td>56337374</td>\n",
       "    </tr>\n",
       "    <tr>\n",
       "      <th>19</th>\n",
       "      <td>2002</td>\n",
       "      <td>1575756527</td>\n",
       "      <td>9155147215</td>\n",
       "      <td>14433929789</td>\n",
       "      <td>5.81</td>\n",
       "      <td>Spider-Man</td>\n",
       "      <td>Adventure</td>\n",
       "      <td>PG-13</td>\n",
       "      <td>Sony Pictures</td>\n",
       "      <td>403706375</td>\n",
       "      <td>636480273</td>\n",
       "      <td>69484746</td>\n",
       "    </tr>\n",
       "    <tr>\n",
       "      <th>20</th>\n",
       "      <td>2001</td>\n",
       "      <td>1465874205</td>\n",
       "      <td>8296849636</td>\n",
       "      <td>13427407722</td>\n",
       "      <td>5.66</td>\n",
       "      <td>Harry Potter and the Sorcerer’s Stone</td>\n",
       "      <td>Adventure</td>\n",
       "      <td>PG</td>\n",
       "      <td>Warner Bros.</td>\n",
       "      <td>300404434</td>\n",
       "      <td>486166890</td>\n",
       "      <td>53074988</td>\n",
       "    </tr>\n",
       "    <tr>\n",
       "      <th>21</th>\n",
       "      <td>2000</td>\n",
       "      <td>1397460079</td>\n",
       "      <td>7532311479</td>\n",
       "      <td>12800734319</td>\n",
       "      <td>5.39</td>\n",
       "      <td>How the Grinch Stole Christmas</td>\n",
       "      <td>Adventure</td>\n",
       "      <td>PG</td>\n",
       "      <td>Universal</td>\n",
       "      <td>253367455</td>\n",
       "      <td>430583644</td>\n",
       "      <td>47006948</td>\n",
       "    </tr>\n",
       "    <tr>\n",
       "      <th>22</th>\n",
       "      <td>1999</td>\n",
       "      <td>1444664086</td>\n",
       "      <td>7338894852</td>\n",
       "      <td>13233123027</td>\n",
       "      <td>5.08</td>\n",
       "      <td>Star Wars Ep. I: The Phantom Menace</td>\n",
       "      <td>Adventure</td>\n",
       "      <td>PG</td>\n",
       "      <td>20th Century Fox</td>\n",
       "      <td>430443350</td>\n",
       "      <td>776153749</td>\n",
       "      <td>84732942</td>\n",
       "    </tr>\n",
       "    <tr>\n",
       "      <th>23</th>\n",
       "      <td>1998</td>\n",
       "      <td>1443832471</td>\n",
       "      <td>6771575283</td>\n",
       "      <td>13225505439</td>\n",
       "      <td>4.69</td>\n",
       "      <td>Titanic</td>\n",
       "      <td>Adventure</td>\n",
       "      <td>PG-13</td>\n",
       "      <td>Paramount Pictures</td>\n",
       "      <td>443319081</td>\n",
       "      <td>865842808</td>\n",
       "      <td>94524324</td>\n",
       "    </tr>\n",
       "    <tr>\n",
       "      <th>24</th>\n",
       "      <td>1997</td>\n",
       "      <td>1357349648</td>\n",
       "      <td>6230235770</td>\n",
       "      <td>12433322785</td>\n",
       "      <td>4.59</td>\n",
       "      <td>Men in Black</td>\n",
       "      <td>Adventure</td>\n",
       "      <td>PG-13</td>\n",
       "      <td>Sony Pictures</td>\n",
       "      <td>250650052</td>\n",
       "      <td>500207943</td>\n",
       "      <td>54607854</td>\n",
       "    </tr>\n",
       "    <tr>\n",
       "      <th>25</th>\n",
       "      <td>1996</td>\n",
       "      <td>1305221290</td>\n",
       "      <td>5769078886</td>\n",
       "      <td>11955781912</td>\n",
       "      <td>4.42</td>\n",
       "      <td>Independence Day</td>\n",
       "      <td>Adventure</td>\n",
       "      <td>PG-13</td>\n",
       "      <td>20th Century Fox</td>\n",
       "      <td>306169255</td>\n",
       "      <td>634504608</td>\n",
       "      <td>69269062</td>\n",
       "    </tr>\n",
       "    <tr>\n",
       "      <th>26</th>\n",
       "      <td>1995</td>\n",
       "      <td>1221705907</td>\n",
       "      <td>5314421390</td>\n",
       "      <td>11190826105</td>\n",
       "      <td>4.35</td>\n",
       "      <td>Batman Forever</td>\n",
       "      <td>Drama</td>\n",
       "      <td>PG-13</td>\n",
       "      <td>Warner Bros.</td>\n",
       "      <td>184031112</td>\n",
       "      <td>387522978</td>\n",
       "      <td>42306002</td>\n",
       "    </tr>\n",
       "  </tbody>\n",
       "</table>\n",
       "</div>"
      ],
      "text/plain": [
       "    YEAR  TICKETS SOLD_as  TOTAL BOX OFFICE  \\\n",
       "0   2021        423774881        3881777912   \n",
       "1   2020        223638958        2048534616   \n",
       "2   2019       1228541629       11253443955   \n",
       "3   2018       1311536128       11948096650   \n",
       "4   2017       1225639761       10993991460   \n",
       "5   2016       1302556378       11267115924   \n",
       "6   2015       1323356776       11155900636   \n",
       "7   2014       1257402920       10272985008   \n",
       "8   2013       1339168926       10887446341   \n",
       "9   2012       1380921942       10992141616   \n",
       "10  2011       1282915168       10173519704   \n",
       "11  2010       1328549021       10482254025   \n",
       "12  2009       1418567388       10639257284   \n",
       "13  2008       1358042073        9750744148   \n",
       "14  2007       1420036680        9769854914   \n",
       "15  2006       1398738283        9161738221   \n",
       "16  2005       1372980280        8800805718   \n",
       "17  2004       1495651298        9287996519   \n",
       "18  2003       1524589620        9193277289   \n",
       "19  2002       1575756527        9155147215   \n",
       "20  2001       1465874205        8296849636   \n",
       "21  2000       1397460079        7532311479   \n",
       "22  1999       1444664086        7338894852   \n",
       "23  1998       1443832471        6771575283   \n",
       "24  1997       1357349648        6230235770   \n",
       "25  1996       1305221290        5769078886   \n",
       "26  1995       1221705907        5314421390   \n",
       "\n",
       "    TOTAL INFLATION ADJUSTED BOX OFFICE  AVERAGE TICKET PRICE  \\\n",
       "0                            3881777912                  9.16   \n",
       "1                            2048534616                  9.16   \n",
       "2                           11253444050                  9.16   \n",
       "3                           12013670952                  9.11   \n",
       "4                           11226860216                  8.97   \n",
       "5                           11931416424                  8.65   \n",
       "6                           12121948075                  8.43   \n",
       "7                           11517810744                  8.17   \n",
       "8                           12266787382                  8.13   \n",
       "9                           12649244986                  7.96   \n",
       "10                          11751502955                  7.93   \n",
       "11                          12169509032                  7.89   \n",
       "12                          12994051137                  7.50   \n",
       "13                          12439665380                  7.18   \n",
       "14                          13007535993                  6.88   \n",
       "15                          12812442671                  6.55   \n",
       "16                          12576499367                  6.41   \n",
       "17                          13700165883                  6.21   \n",
       "18                          13965240914                  6.03   \n",
       "19                          14433929789                  5.81   \n",
       "20                          13427407722                  5.66   \n",
       "21                          12800734319                  5.39   \n",
       "22                          13233123027                  5.08   \n",
       "23                          13225505439                  4.69   \n",
       "24                          12433322785                  4.59   \n",
       "25                          11955781912                  4.42   \n",
       "26                          11190826105                  4.35   \n",
       "\n",
       "                                            MOVIE      GENRE MPAA RATING  \\\n",
       "0       Shang-Chi and the Legend of the Ten Rings        NaN       PG-13   \n",
       "1                               Bad Boys For Life        NaN           R   \n",
       "2                               Avengers: Endgame        NaN       PG-13   \n",
       "3                                   Black Panther     Action       PG-13   \n",
       "4               Star Wars Ep. VIII: The Last Jedi     Action       PG-13   \n",
       "5                                    Finding Dory     Action          PG   \n",
       "6            Star Wars Ep. VII: The Force Awakens     Action       PG-13   \n",
       "7                         Guardians of the Galaxy  Adventure       PG-13   \n",
       "8                                      Iron Man 3  Adventure       PG-13   \n",
       "9                                    The Avengers  Adventure       PG-13   \n",
       "10  Harry Potter and the Deathly Hallows: Part II     Action       PG-13   \n",
       "11                                    Toy Story 3     Action           G   \n",
       "12            Transformers: Revenge of the Fallen     Action       PG-13   \n",
       "13                                The Dark Knight  Adventure       PG-13   \n",
       "14                                   Spider-Man 3  Adventure       PG-13   \n",
       "15     Pirates of the Caribbean: Dead Man’s Chest     Action       PG-13   \n",
       "16         Star Wars Ep. III: Revenge of the Sith     Action       PG-13   \n",
       "17                                        Shrek 2  Adventure          PG   \n",
       "18                                   Finding Nemo  Adventure           G   \n",
       "19                                     Spider-Man  Adventure       PG-13   \n",
       "20          Harry Potter and the Sorcerer’s Stone  Adventure          PG   \n",
       "21                 How the Grinch Stole Christmas  Adventure          PG   \n",
       "22            Star Wars Ep. I: The Phantom Menace  Adventure          PG   \n",
       "23                                        Titanic  Adventure       PG-13   \n",
       "24                                   Men in Black  Adventure       PG-13   \n",
       "25                               Independence Day  Adventure       PG-13   \n",
       "26                                 Batman Forever      Drama       PG-13   \n",
       "\n",
       "           DISTRIBUTOR  TOTAL FOR YEAR  TOTAL IN 2019 DOLLARS  TICKETS SOLD_hg  \n",
       "0          Walt Disney       224226704              224226704         24478897  \n",
       "1        Sony Pictures       204417855              204417848         22316359  \n",
       "2          Walt Disney       858373000              858373002         93708843  \n",
       "3          Walt Disney       700059566              703901821         76845177  \n",
       "4          Walt Disney       517218368              528173936         57660910  \n",
       "5          Walt Disney       486295561              514967322         56219140  \n",
       "6          Walt Disney       742208942              806480887         88043765  \n",
       "7          Walt Disney       333055258              373413235         40765637  \n",
       "8          Walt Disney       408992272              460808016         50306552  \n",
       "9          Walt Disney       623357910              717331462         78311295  \n",
       "10        Warner Bros.       381011219              440108798         48046812  \n",
       "11         Walt Disney       415004880              481805411         52598844  \n",
       "12  Paramount Pictures       402111870              491112631         53614916  \n",
       "13        Warner Bros.       531001578              677433772         73955652  \n",
       "14       Sony Pictures       336530303              448054878         48914288  \n",
       "15         Walt Disney       423315812              591995851         64628368  \n",
       "16    20th Century Fox       380270577              543413171         59324582  \n",
       "17      Dreamworks SKG       441226247              650826473         71050925  \n",
       "18         Walt Disney       339714367              516050346         56337374  \n",
       "19       Sony Pictures       403706375              636480273         69484746  \n",
       "20        Warner Bros.       300404434              486166890         53074988  \n",
       "21           Universal       253367455              430583644         47006948  \n",
       "22    20th Century Fox       430443350              776153749         84732942  \n",
       "23  Paramount Pictures       443319081              865842808         94524324  \n",
       "24       Sony Pictures       250650052              500207943         54607854  \n",
       "25    20th Century Fox       306169255              634504608         69269062  \n",
       "26        Warner Bros.       184031112              387522978         42306002  "
      ]
     },
     "execution_count": 58,
     "metadata": {},
     "output_type": "execute_result"
    }
   ],
   "source": [
    "df1"
   ]
  },
  {
   "cell_type": "markdown",
   "id": "06f13ba1",
   "metadata": {},
   "source": [
    "First, we can look at the value according to the year and check with any pattern or observation"
   ]
  },
  {
   "cell_type": "code",
   "execution_count": 59,
   "id": "90fa26a7",
   "metadata": {},
   "outputs": [
    {
     "data": {
      "text/plain": [
       "['TICKETS SOLD_as',\n",
       " 'TOTAL BOX OFFICE',\n",
       " 'TOTAL INFLATION ADJUSTED BOX OFFICE',\n",
       " 'AVERAGE TICKET PRICE',\n",
       " 'TOTAL FOR YEAR',\n",
       " 'TOTAL IN 2019 DOLLARS',\n",
       " 'TICKETS SOLD_hg']"
      ]
     },
     "execution_count": 59,
     "metadata": {},
     "output_type": "execute_result"
    }
   ],
   "source": [
    "# Obtain all the variable that can be shown as numeric value\n",
    "quantativity = [i for i in df1.columns if df1[i].dtype != 'object' and i != 'YEAR']\n",
    "quantativity "
   ]
  },
  {
   "cell_type": "code",
   "execution_count": 60,
   "id": "abbf782e",
   "metadata": {
    "scrolled": false
   },
   "outputs": [
    {
     "data": {
      "image/png": "[encoded data removed]",
      "text/plain": [
       "<Figure size 432x288 with 1 Axes>"
      ]
     },
     "metadata": {
      "needs_background": "light"
     },
     "output_type": "display_data"
    },
    {
     "data": {
      "image/png": "[encoded data removed]",
      "text/plain": [
       "<Figure size 432x288 with 1 Axes>"
      ]
     },
     "metadata": {
      "needs_background": "light"
     },
     "output_type": "display_data"
    },
    {
     "data": {
      "image/png": "[encoded data removed]",
      "text/plain": [
       "<Figure size 432x288 with 1 Axes>"
      ]
     },
     "metadata": {
      "needs_background": "light"
     },
     "output_type": "display_data"
    },
    {
     "data": {
      "image/png": "[encoded data removed]",
      "text/plain": [
       "<Figure size 432x288 with 1 Axes>"
      ]
     },
     "metadata": {
      "needs_background": "light"
     },
     "output_type": "display_data"
    },
    {
     "data": {
      "image/png": "[encoded data removed]",
      "text/plain": [
       "<Figure size 432x288 with 1 Axes>"
      ]
     },
     "metadata": {
      "needs_background": "light"
     },
     "output_type": "display_data"
    },
    {
     "data": {
      "image/png": "[encoded data removed]",
      "text/plain": [
       "<Figure size 432x288 with 1 Axes>"
      ]
     },
     "metadata": {
      "needs_background": "light"
     },
     "output_type": "display_data"
    },
    {
     "data": {
      "image/png": "[encoded data removed]",
      "text/plain": [
       "<Figure size 432x288 with 1 Axes>"
      ]
     },
     "metadata": {
      "needs_background": "light"
     },
     "output_type": "display_data"
    }
   ],
   "source": [
    "# Next step is that trying to find a way to using the map function or Facegrid for better comparison\n",
    "for i in range(len(quantativity)):\n",
    "    plt.figure(i+1) # Simple way to assign the location of the plot\n",
    "    # Generate a barchart for observation for each variable against YEAR\n",
    "    sns.barplot(data = df1, x = 'YEAR', y = quantativity[i])\n",
    "    x = plt.xticks(rotation = 90) # avoid the overlap of YEAR variables"
   ]
  },
  {
   "cell_type": "markdown",
   "id": "270192e2",
   "metadata": {},
   "source": [
    "There is some observation and trend that we can observe. First, the average ticket price is increasing according to the year and it may due to the cost of movie, theater and inflation. Also, the total box office is keep increasing as well but it is quite steady or decreased a little after the inflation adjustment. The total ticket amount increase slightly from 1995 but start to reduce after 2004. It can be due to some movie stream platform such as NetFlix was getting popular. People tend to wait and watch the movie on those platform instead of paying for movie ticket.\n",
    "\n",
    "One outstanding point is that the amount of sold ticket is dropped dramatically in 2020 since the outbreak is happened at the end of 2019. People tend to stay at home and not going to any crown location. By merging the top movie that year, the total tickets sold for \"Bad Boy for Life\" & \"Shang-Chi and the Legend of the Ten Rings\" was decresaed dramatically as well.\n",
    "\n",
    "Therefore, the sold ticker amount is dropped but the price ticket is still increasing."
   ]
  },
  {
   "cell_type": "markdown",
   "id": "c8fb834b",
   "metadata": {},
   "source": [
    "##### Percentage of ticket sold of top grossier movie in the whole year ticket sold"
   ]
  },
  {
   "cell_type": "code",
   "execution_count": 61,
   "id": "3d13c184",
   "metadata": {},
   "outputs": [
    {
     "data": {
      "text/html": [
       "<div>\n",
       "<style scoped>\n",
       "    .dataframe tbody tr th:only-of-type {\n",
       "        vertical-align: middle;\n",
       "    }\n",
       "\n",
       "    .dataframe tbody tr th {\n",
       "        vertical-align: top;\n",
       "    }\n",
       "\n",
       "    .dataframe thead th {\n",
       "        text-align: right;\n",
       "    }\n",
       "</style>\n",
       "<table border=\"1\" class=\"dataframe\">\n",
       "  <thead>\n",
       "    <tr style=\"text-align: right;\">\n",
       "      <th></th>\n",
       "      <th>YEAR</th>\n",
       "      <th>TICKETS SOLD_as</th>\n",
       "      <th>TOTAL BOX OFFICE</th>\n",
       "      <th>TOTAL INFLATION ADJUSTED BOX OFFICE</th>\n",
       "      <th>AVERAGE TICKET PRICE</th>\n",
       "      <th>MOVIE</th>\n",
       "      <th>GENRE</th>\n",
       "      <th>MPAA RATING</th>\n",
       "      <th>DISTRIBUTOR</th>\n",
       "      <th>TOTAL FOR YEAR</th>\n",
       "      <th>TOTAL IN 2019 DOLLARS</th>\n",
       "      <th>TICKETS SOLD_hg</th>\n",
       "    </tr>\n",
       "  </thead>\n",
       "  <tbody>\n",
       "    <tr>\n",
       "      <th>0</th>\n",
       "      <td>2021</td>\n",
       "      <td>423774881</td>\n",
       "      <td>3881777912</td>\n",
       "      <td>3881777912</td>\n",
       "      <td>9.16</td>\n",
       "      <td>Shang-Chi and the Legend of the Ten Rings</td>\n",
       "      <td>NaN</td>\n",
       "      <td>PG-13</td>\n",
       "      <td>Walt Disney</td>\n",
       "      <td>224226704</td>\n",
       "      <td>224226704</td>\n",
       "      <td>24478897</td>\n",
       "    </tr>\n",
       "    <tr>\n",
       "      <th>1</th>\n",
       "      <td>2020</td>\n",
       "      <td>223638958</td>\n",
       "      <td>2048534616</td>\n",
       "      <td>2048534616</td>\n",
       "      <td>9.16</td>\n",
       "      <td>Bad Boys For Life</td>\n",
       "      <td>NaN</td>\n",
       "      <td>R</td>\n",
       "      <td>Sony Pictures</td>\n",
       "      <td>204417855</td>\n",
       "      <td>204417848</td>\n",
       "      <td>22316359</td>\n",
       "    </tr>\n",
       "    <tr>\n",
       "      <th>2</th>\n",
       "      <td>2019</td>\n",
       "      <td>1228541629</td>\n",
       "      <td>11253443955</td>\n",
       "      <td>11253444050</td>\n",
       "      <td>9.16</td>\n",
       "      <td>Avengers: Endgame</td>\n",
       "      <td>NaN</td>\n",
       "      <td>PG-13</td>\n",
       "      <td>Walt Disney</td>\n",
       "      <td>858373000</td>\n",
       "      <td>858373002</td>\n",
       "      <td>93708843</td>\n",
       "    </tr>\n",
       "    <tr>\n",
       "      <th>3</th>\n",
       "      <td>2018</td>\n",
       "      <td>1311536128</td>\n",
       "      <td>11948096650</td>\n",
       "      <td>12013670952</td>\n",
       "      <td>9.11</td>\n",
       "      <td>Black Panther</td>\n",
       "      <td>Action</td>\n",
       "      <td>PG-13</td>\n",
       "      <td>Walt Disney</td>\n",
       "      <td>700059566</td>\n",
       "      <td>703901821</td>\n",
       "      <td>76845177</td>\n",
       "    </tr>\n",
       "    <tr>\n",
       "      <th>4</th>\n",
       "      <td>2017</td>\n",
       "      <td>1225639761</td>\n",
       "      <td>10993991460</td>\n",
       "      <td>11226860216</td>\n",
       "      <td>8.97</td>\n",
       "      <td>Star Wars Ep. VIII: The Last Jedi</td>\n",
       "      <td>Action</td>\n",
       "      <td>PG-13</td>\n",
       "      <td>Walt Disney</td>\n",
       "      <td>517218368</td>\n",
       "      <td>528173936</td>\n",
       "      <td>57660910</td>\n",
       "    </tr>\n",
       "  </tbody>\n",
       "</table>\n",
       "</div>"
      ],
      "text/plain": [
       "   YEAR  TICKETS SOLD_as  TOTAL BOX OFFICE  \\\n",
       "0  2021        423774881        3881777912   \n",
       "1  2020        223638958        2048534616   \n",
       "2  2019       1228541629       11253443955   \n",
       "3  2018       1311536128       11948096650   \n",
       "4  2017       1225639761       10993991460   \n",
       "\n",
       "   TOTAL INFLATION ADJUSTED BOX OFFICE  AVERAGE TICKET PRICE  \\\n",
       "0                           3881777912                  9.16   \n",
       "1                           2048534616                  9.16   \n",
       "2                          11253444050                  9.16   \n",
       "3                          12013670952                  9.11   \n",
       "4                          11226860216                  8.97   \n",
       "\n",
       "                                       MOVIE   GENRE MPAA RATING  \\\n",
       "0  Shang-Chi and the Legend of the Ten Rings     NaN       PG-13   \n",
       "1                          Bad Boys For Life     NaN           R   \n",
       "2                          Avengers: Endgame     NaN       PG-13   \n",
       "3                              Black Panther  Action       PG-13   \n",
       "4          Star Wars Ep. VIII: The Last Jedi  Action       PG-13   \n",
       "\n",
       "     DISTRIBUTOR  TOTAL FOR YEAR  TOTAL IN 2019 DOLLARS  TICKETS SOLD_hg  \n",
       "0    Walt Disney       224226704              224226704         24478897  \n",
       "1  Sony Pictures       204417855              204417848         22316359  \n",
       "2    Walt Disney       858373000              858373002         93708843  \n",
       "3    Walt Disney       700059566              703901821         76845177  \n",
       "4    Walt Disney       517218368              528173936         57660910  "
      ]
     },
     "execution_count": 61,
     "metadata": {},
     "output_type": "execute_result"
    }
   ],
   "source": [
    "df1.head()"
   ]
  },
  {
   "cell_type": "code",
   "execution_count": 62,
   "id": "a4a92449",
   "metadata": {},
   "outputs": [],
   "source": [
    "# Generate another empty data frame\n",
    "df1_ticket_percent = pd.DataFrame()\n",
    "# Seperate the ticket amount for top grossier and remaining movies and calcualte the percentage\n",
    "df1_ticket_percent['YEAR'] = df1['YEAR']\n",
    "df1_ticket_percent['Total ticket sold'] = df1['TICKETS SOLD_as'] \n",
    "df1_ticket_percent['Top grossier ticket sold'] = df1['TICKETS SOLD_hg']\n",
    "df1_ticket_percent['Other movie ticket sold'] = df1['TICKETS SOLD_as'] - df1['TICKETS SOLD_hg']\n",
    "df1_ticket_percent['Top_percentage'] = df1_ticket_percent['Top grossier ticket sold']/ df1_ticket_percent['Total ticket sold'] * 100\n",
    "df1_ticket_percent['Other_percentage'] = (100 - df1_ticket_percent['Top_percentage'])"
   ]
  },
  {
   "cell_type": "code",
   "execution_count": 63,
   "id": "e9f5fcbe",
   "metadata": {},
   "outputs": [
    {
     "data": {
      "text/html": [
       "<div>\n",
       "<style scoped>\n",
       "    .dataframe tbody tr th:only-of-type {\n",
       "        vertical-align: middle;\n",
       "    }\n",
       "\n",
       "    .dataframe tbody tr th {\n",
       "        vertical-align: top;\n",
       "    }\n",
       "\n",
       "    .dataframe thead th {\n",
       "        text-align: right;\n",
       "    }\n",
       "</style>\n",
       "<table border=\"1\" class=\"dataframe\">\n",
       "  <thead>\n",
       "    <tr style=\"text-align: right;\">\n",
       "      <th></th>\n",
       "      <th>YEAR</th>\n",
       "      <th>Total ticket sold</th>\n",
       "      <th>Top grossier ticket sold</th>\n",
       "      <th>Other movie ticket sold</th>\n",
       "      <th>Top_percentage</th>\n",
       "      <th>Other_percentage</th>\n",
       "    </tr>\n",
       "  </thead>\n",
       "  <tbody>\n",
       "    <tr>\n",
       "      <th>0</th>\n",
       "      <td>2021</td>\n",
       "      <td>423774881</td>\n",
       "      <td>24478897</td>\n",
       "      <td>399295984</td>\n",
       "      <td>5.776392</td>\n",
       "      <td>94.223608</td>\n",
       "    </tr>\n",
       "    <tr>\n",
       "      <th>1</th>\n",
       "      <td>2020</td>\n",
       "      <td>223638958</td>\n",
       "      <td>22316359</td>\n",
       "      <td>201322599</td>\n",
       "      <td>9.978744</td>\n",
       "      <td>90.021256</td>\n",
       "    </tr>\n",
       "    <tr>\n",
       "      <th>2</th>\n",
       "      <td>2019</td>\n",
       "      <td>1228541629</td>\n",
       "      <td>93708843</td>\n",
       "      <td>1134832786</td>\n",
       "      <td>7.627649</td>\n",
       "      <td>92.372351</td>\n",
       "    </tr>\n",
       "    <tr>\n",
       "      <th>3</th>\n",
       "      <td>2018</td>\n",
       "      <td>1311536128</td>\n",
       "      <td>76845177</td>\n",
       "      <td>1234690951</td>\n",
       "      <td>5.859173</td>\n",
       "      <td>94.140827</td>\n",
       "    </tr>\n",
       "    <tr>\n",
       "      <th>4</th>\n",
       "      <td>2017</td>\n",
       "      <td>1225639761</td>\n",
       "      <td>57660910</td>\n",
       "      <td>1167978851</td>\n",
       "      <td>4.704556</td>\n",
       "      <td>95.295444</td>\n",
       "    </tr>\n",
       "  </tbody>\n",
       "</table>\n",
       "</div>"
      ],
      "text/plain": [
       "   YEAR  Total ticket sold  Top grossier ticket sold  Other movie ticket sold  \\\n",
       "0  2021          423774881                  24478897                399295984   \n",
       "1  2020          223638958                  22316359                201322599   \n",
       "2  2019         1228541629                  93708843               1134832786   \n",
       "3  2018         1311536128                  76845177               1234690951   \n",
       "4  2017         1225639761                  57660910               1167978851   \n",
       "\n",
       "   Top_percentage  Other_percentage  \n",
       "0        5.776392         94.223608  \n",
       "1        9.978744         90.021256  \n",
       "2        7.627649         92.372351  \n",
       "3        5.859173         94.140827  \n",
       "4        4.704556         95.295444  "
      ]
     },
     "execution_count": 63,
     "metadata": {},
     "output_type": "execute_result"
    }
   ],
   "source": [
    "df1_ticket_percent.head()"
   ]
  },
  {
   "cell_type": "code",
   "execution_count": 64,
   "id": "669552da",
   "metadata": {},
   "outputs": [
    {
     "data": {
      "image/png": "[encoded data removed]",
      "text/plain": [
       "<Figure size 432x288 with 1 Axes>"
      ]
     },
     "metadata": {
      "needs_background": "light"
     },
     "output_type": "display_data"
    }
   ],
   "source": [
    "# Create the bar for total ticket sold in percentage\n",
    "plt.bar(df1_ticket_percent['YEAR'], df1_ticket_percent['Top_percentage'], edgecolor = 'white', width = 0.85)\n",
    "# Create the bar for top grossier ticket sold in percentage\n",
    "plt.bar(df1_ticket_percent['YEAR'], df1_ticket_percent['Other_percentage'], bottom = df1_ticket_percent['Top_percentage'], edgecolor = 'white', width = 0.85)\n",
    "# Custom x axis\n",
    "plt.xlabel(\"YEAR\")\n",
    "# Add a legend\n",
    "plt.legend([\"Top Grossier\",\"Other Movie\"],loc = 'upper left')\n",
    "# Show the graph\n",
    "plt.show()"
   ]
  },
  {
   "cell_type": "markdown",
   "id": "1bd7741d",
   "metadata": {},
   "source": [
    "From the bar chart, we can check the overall percentage of top grossier ticket sold. Also, we can zoom in more to take a look for the trend."
   ]
  },
  {
   "cell_type": "code",
   "execution_count": 65,
   "id": "697f47a2",
   "metadata": {},
   "outputs": [
    {
     "data": {
      "image/png": "[encoded data removed]",
      "text/plain": [
       "<Figure size 432x288 with 1 Axes>"
      ]
     },
     "metadata": {
      "needs_background": "light"
     },
     "output_type": "display_data"
    }
   ],
   "source": [
    "# Create the bar for total ticket sold in percentage\n",
    "plt.bar(df1_ticket_percent['YEAR'], df1_ticket_percent['Top_percentage'], edgecolor = 'white', width = 0.85)\n",
    "# Create the bar for top grossier ticket sold in percentage\n",
    "plt.bar(df1_ticket_percent['YEAR'], df1_ticket_percent['Other_percentage'], bottom = df1_ticket_percent['Top_percentage'], edgecolor = 'white', width = 0.85)\n",
    "# Custom x axis\n",
    "plt.xlabel(\"YEAR\")\n",
    "# Custom y axis limit\n",
    "plt.ylim(0, 15)\n",
    "# Add a legend\n",
    "plt.legend([\"Top Grossier\",\"Other Movie\"],loc = 'upper left')\n",
    "# Show the graph\n",
    "plt.show()"
   ]
  },
  {
   "cell_type": "markdown",
   "id": "11ae4e7b",
   "metadata": {},
   "source": [
    "From 1995 to 2018, the sold ticket for the top grossier is quite stable. Although the trend is fluctuated, the range kept from around 3% - 7%. After 2019, the top grossier ticket sold shared more percentage over the whole year. Especially, 2020 almost reached around 10%. There are few reason such as the movie amount that come out is less than before due to the outbreak of COVID-19. Also, most of the movie production was stopped due to the social distance policy at 2019. The amount of movie come out at 2020 was less than before and people got less chance to watch their favourite movie or the choices is less than before. Therefore, the percentage of top grossier ticket sold is better than before. Around 2021, the percentage back to normal range since the live for people is getting normal by the adoption of COVID-19 working environment."
   ]
  },
  {
   "cell_type": "markdown",
   "id": "c49e34ae",
   "metadata": {},
   "source": [
    "We can check it by the visualization of wide release amount for every year."
   ]
  },
  {
   "cell_type": "code",
   "execution_count": 66,
   "id": "d72e7926",
   "metadata": {},
   "outputs": [],
   "source": [
    "# Copy the data frame and calculate the sum for each column\n",
    "df2 = df_wide_release.copy()\n",
    "# Remove the total major 6 column to get rid of the noise\n",
    "df2.drop(['TOTAL MAJOR 6'], axis = 1, inplace = True)\n",
    "df2['SUM'] = list(df2.set_index('YEAR').sum(axis = 1))"
   ]
  },
  {
   "cell_type": "code",
   "execution_count": 67,
   "id": "d2f73a6a",
   "metadata": {},
   "outputs": [
    {
     "data": {
      "image/png": "[encoded data removed]",
      "text/plain": [
       "<Figure size 432x288 with 1 Axes>"
      ]
     },
     "metadata": {
      "needs_background": "light"
     },
     "output_type": "display_data"
    }
   ],
   "source": [
    "sns.barplot(data = df2, x = 'YEAR', y = 'SUM')\n",
    "x = plt.xticks(rotation = 90)"
   ]
  },
  {
   "cell_type": "markdown",
   "id": "3491c5fd",
   "metadata": {},
   "source": [
    "You can see that the wide release amount from different distributor with 1995 - 2019 is quite steady and almost more than 120. The wide release amount was dropped dramatically at 2020 since the progress of movie making was stopped due to the outbreak at 2019. Therefore, the amount of movie released are relatively low at 2020 and 2021."
   ]
  },
  {
   "cell_type": "markdown",
   "id": "e9d176ac",
   "metadata": {},
   "source": [
    "##### Catagories part for top grossier"
   ]
  },
  {
   "cell_type": "markdown",
   "id": "5eb7cc47",
   "metadata": {},
   "source": [
    "Let's move to some catagories variables for other observation that we can have"
   ]
  },
  {
   "cell_type": "code",
   "execution_count": 68,
   "id": "46c1aadd",
   "metadata": {},
   "outputs": [
    {
     "data": {
      "text/plain": [
       "['MOVIE', 'GENRE', 'MPAA RATING', 'DISTRIBUTOR']"
      ]
     },
     "execution_count": 68,
     "metadata": {},
     "output_type": "execute_result"
    }
   ],
   "source": [
    "qualitative = [i for i in df1.columns if df1[i].dtypes == 'object']\n",
    "qualitative"
   ]
  },
  {
   "cell_type": "code",
   "execution_count": 69,
   "id": "04c40d9e",
   "metadata": {},
   "outputs": [
    {
     "data": {
      "text/html": [
       "<div>\n",
       "<style scoped>\n",
       "    .dataframe tbody tr th:only-of-type {\n",
       "        vertical-align: middle;\n",
       "    }\n",
       "\n",
       "    .dataframe tbody tr th {\n",
       "        vertical-align: top;\n",
       "    }\n",
       "\n",
       "    .dataframe thead th {\n",
       "        text-align: right;\n",
       "    }\n",
       "</style>\n",
       "<table border=\"1\" class=\"dataframe\">\n",
       "  <thead>\n",
       "    <tr style=\"text-align: right;\">\n",
       "      <th></th>\n",
       "      <th>MOVIE</th>\n",
       "      <th>DISTRIBUTOR</th>\n",
       "    </tr>\n",
       "  </thead>\n",
       "  <tbody>\n",
       "    <tr>\n",
       "      <th>0</th>\n",
       "      <td>Shang-Chi and the Legend of the Ten Rings</td>\n",
       "      <td>Walt Disney</td>\n",
       "    </tr>\n",
       "    <tr>\n",
       "      <th>1</th>\n",
       "      <td>Bad Boys For Life</td>\n",
       "      <td>Sony Pictures</td>\n",
       "    </tr>\n",
       "    <tr>\n",
       "      <th>2</th>\n",
       "      <td>Avengers: Endgame</td>\n",
       "      <td>Walt Disney</td>\n",
       "    </tr>\n",
       "    <tr>\n",
       "      <th>3</th>\n",
       "      <td>Black Panther</td>\n",
       "      <td>Walt Disney</td>\n",
       "    </tr>\n",
       "    <tr>\n",
       "      <th>4</th>\n",
       "      <td>Star Wars Ep. VIII: The Last Jedi</td>\n",
       "      <td>Walt Disney</td>\n",
       "    </tr>\n",
       "    <tr>\n",
       "      <th>5</th>\n",
       "      <td>Finding Dory</td>\n",
       "      <td>Walt Disney</td>\n",
       "    </tr>\n",
       "    <tr>\n",
       "      <th>6</th>\n",
       "      <td>Star Wars Ep. VII: The Force Awakens</td>\n",
       "      <td>Walt Disney</td>\n",
       "    </tr>\n",
       "    <tr>\n",
       "      <th>7</th>\n",
       "      <td>Guardians of the Galaxy</td>\n",
       "      <td>Walt Disney</td>\n",
       "    </tr>\n",
       "    <tr>\n",
       "      <th>8</th>\n",
       "      <td>Iron Man 3</td>\n",
       "      <td>Walt Disney</td>\n",
       "    </tr>\n",
       "    <tr>\n",
       "      <th>9</th>\n",
       "      <td>The Avengers</td>\n",
       "      <td>Walt Disney</td>\n",
       "    </tr>\n",
       "    <tr>\n",
       "      <th>10</th>\n",
       "      <td>Harry Potter and the Deathly Hallows: Part II</td>\n",
       "      <td>Warner Bros.</td>\n",
       "    </tr>\n",
       "    <tr>\n",
       "      <th>11</th>\n",
       "      <td>Toy Story 3</td>\n",
       "      <td>Walt Disney</td>\n",
       "    </tr>\n",
       "    <tr>\n",
       "      <th>12</th>\n",
       "      <td>Transformers: Revenge of the Fallen</td>\n",
       "      <td>Paramount Pictures</td>\n",
       "    </tr>\n",
       "    <tr>\n",
       "      <th>13</th>\n",
       "      <td>The Dark Knight</td>\n",
       "      <td>Warner Bros.</td>\n",
       "    </tr>\n",
       "    <tr>\n",
       "      <th>14</th>\n",
       "      <td>Spider-Man 3</td>\n",
       "      <td>Sony Pictures</td>\n",
       "    </tr>\n",
       "    <tr>\n",
       "      <th>15</th>\n",
       "      <td>Pirates of the Caribbean: Dead Man’s Chest</td>\n",
       "      <td>Walt Disney</td>\n",
       "    </tr>\n",
       "    <tr>\n",
       "      <th>16</th>\n",
       "      <td>Star Wars Ep. III: Revenge of the Sith</td>\n",
       "      <td>20th Century Fox</td>\n",
       "    </tr>\n",
       "    <tr>\n",
       "      <th>17</th>\n",
       "      <td>Shrek 2</td>\n",
       "      <td>Dreamworks SKG</td>\n",
       "    </tr>\n",
       "    <tr>\n",
       "      <th>18</th>\n",
       "      <td>Finding Nemo</td>\n",
       "      <td>Walt Disney</td>\n",
       "    </tr>\n",
       "    <tr>\n",
       "      <th>19</th>\n",
       "      <td>Spider-Man</td>\n",
       "      <td>Sony Pictures</td>\n",
       "    </tr>\n",
       "    <tr>\n",
       "      <th>20</th>\n",
       "      <td>Harry Potter and the Sorcerer’s Stone</td>\n",
       "      <td>Warner Bros.</td>\n",
       "    </tr>\n",
       "    <tr>\n",
       "      <th>21</th>\n",
       "      <td>How the Grinch Stole Christmas</td>\n",
       "      <td>Universal</td>\n",
       "    </tr>\n",
       "    <tr>\n",
       "      <th>22</th>\n",
       "      <td>Star Wars Ep. I: The Phantom Menace</td>\n",
       "      <td>20th Century Fox</td>\n",
       "    </tr>\n",
       "    <tr>\n",
       "      <th>23</th>\n",
       "      <td>Titanic</td>\n",
       "      <td>Paramount Pictures</td>\n",
       "    </tr>\n",
       "    <tr>\n",
       "      <th>24</th>\n",
       "      <td>Men in Black</td>\n",
       "      <td>Sony Pictures</td>\n",
       "    </tr>\n",
       "    <tr>\n",
       "      <th>25</th>\n",
       "      <td>Independence Day</td>\n",
       "      <td>20th Century Fox</td>\n",
       "    </tr>\n",
       "    <tr>\n",
       "      <th>26</th>\n",
       "      <td>Batman Forever</td>\n",
       "      <td>Warner Bros.</td>\n",
       "    </tr>\n",
       "  </tbody>\n",
       "</table>\n",
       "</div>"
      ],
      "text/plain": [
       "                                            MOVIE         DISTRIBUTOR\n",
       "0       Shang-Chi and the Legend of the Ten Rings         Walt Disney\n",
       "1                               Bad Boys For Life       Sony Pictures\n",
       "2                               Avengers: Endgame         Walt Disney\n",
       "3                                   Black Panther         Walt Disney\n",
       "4               Star Wars Ep. VIII: The Last Jedi         Walt Disney\n",
       "5                                    Finding Dory         Walt Disney\n",
       "6            Star Wars Ep. VII: The Force Awakens         Walt Disney\n",
       "7                         Guardians of the Galaxy         Walt Disney\n",
       "8                                      Iron Man 3         Walt Disney\n",
       "9                                    The Avengers         Walt Disney\n",
       "10  Harry Potter and the Deathly Hallows: Part II        Warner Bros.\n",
       "11                                    Toy Story 3         Walt Disney\n",
       "12            Transformers: Revenge of the Fallen  Paramount Pictures\n",
       "13                                The Dark Knight        Warner Bros.\n",
       "14                                   Spider-Man 3       Sony Pictures\n",
       "15     Pirates of the Caribbean: Dead Man’s Chest         Walt Disney\n",
       "16         Star Wars Ep. III: Revenge of the Sith    20th Century Fox\n",
       "17                                        Shrek 2      Dreamworks SKG\n",
       "18                                   Finding Nemo         Walt Disney\n",
       "19                                     Spider-Man       Sony Pictures\n",
       "20          Harry Potter and the Sorcerer’s Stone        Warner Bros.\n",
       "21                 How the Grinch Stole Christmas           Universal\n",
       "22            Star Wars Ep. I: The Phantom Menace    20th Century Fox\n",
       "23                                        Titanic  Paramount Pictures\n",
       "24                                   Men in Black       Sony Pictures\n",
       "25                               Independence Day    20th Century Fox\n",
       "26                                 Batman Forever        Warner Bros."
      ]
     },
     "execution_count": 69,
     "metadata": {},
     "output_type": "execute_result"
    }
   ],
   "source": [
    "df1[['MOVIE', 'DISTRIBUTOR']]"
   ]
  },
  {
   "cell_type": "code",
   "execution_count": 70,
   "id": "62c4a8bc",
   "metadata": {},
   "outputs": [
    {
     "data": {
      "image/png": "[encoded data removed]",
      "text/plain": [
       "<Figure size 432x288 with 1 Axes>"
      ]
     },
     "metadata": {
      "needs_background": "light"
     },
     "output_type": "display_data"
    },
    {
     "data": {
      "image/png": "[encoded data removed]",
      "text/plain": [
       "<Figure size 432x288 with 1 Axes>"
      ]
     },
     "metadata": {
      "needs_background": "light"
     },
     "output_type": "display_data"
    },
    {
     "data": {
      "image/png": "[encoded data removed]",
      "text/plain": [
       "<Figure size 432x288 with 1 Axes>"
      ]
     },
     "metadata": {
      "needs_background": "light"
     },
     "output_type": "display_data"
    }
   ],
   "source": [
    "# Generate the count plot for each catagories except MOVIE column\n",
    "for i in range(1, len(qualitative)):\n",
    "    plt.figure(i)\n",
    "    sns.countplot(data = df1, x = qualitative[i])\n",
    "    x = plt.xticks(rotation = 90)"
   ]
  },
  {
   "cell_type": "markdown",
   "id": "33e6f136",
   "metadata": {},
   "source": [
    "Wait Disney got the highest amount of top grossier movie since 1995 especially recent year since Wait Disney have bought the right for Marvel. Marvel is trendy series started from Iron Man. People more like the action, adventure and sci-fi movie. Also, most of the highest grosser movie was catagorized as PG-13 and it include the largest aga group. Therefore, the rating won't supress the box office of these new trend movie"
   ]
  },
  {
   "cell_type": "markdown",
   "id": "3e538bd7",
   "metadata": {},
   "source": [
    "##### Merge with wide-release data"
   ]
  },
  {
   "cell_type": "code",
   "execution_count": 71,
   "id": "d334edac",
   "metadata": {},
   "outputs": [],
   "source": [
    "df3 = df1.merge(df2, how = 'left', on='YEAR')"
   ]
  },
  {
   "cell_type": "markdown",
   "id": "028aeb66",
   "metadata": {},
   "source": [
    "##### Work with the amount of wide-release movie from different distributor"
   ]
  },
  {
   "cell_type": "code",
   "execution_count": 72,
   "id": "a1fd46e8",
   "metadata": {},
   "outputs": [],
   "source": [
    "# Get the lish for wide-release distributor\n",
    "listWideRelease = list(df_wide_release.columns)"
   ]
  },
  {
   "cell_type": "code",
   "execution_count": 73,
   "id": "1eccec38",
   "metadata": {},
   "outputs": [],
   "source": [
    "# Remove the unwanted column\n",
    "listWideRelease.remove('TOTAL MAJOR 6')\n",
    "listWideRelease.remove('YEAR')"
   ]
  },
  {
   "cell_type": "code",
   "execution_count": 74,
   "id": "1c554a1b",
   "metadata": {},
   "outputs": [
    {
     "data": {
      "text/plain": [
       "['WARNER BROS',\n",
       " 'WALT DISNEY',\n",
       " '20TH CENTURY FOX',\n",
       " 'PARAMOUNT PICTURES',\n",
       " 'SONY PICTURES',\n",
       " 'UNIVERSAL',\n",
       " 'TOTAL OTHER STUDIOS']"
      ]
     },
     "execution_count": 74,
     "metadata": {},
     "output_type": "execute_result"
    }
   ],
   "source": [
    "listWideRelease"
   ]
  },
  {
   "cell_type": "code",
   "execution_count": 75,
   "id": "c342e37d",
   "metadata": {},
   "outputs": [],
   "source": [
    "# Get the ratio of movie that the distributor wide-release\n",
    "for i in listWideRelease:\n",
    "    df3[i] = df3[i] / df3['SUM'] * 100"
   ]
  },
  {
   "cell_type": "code",
   "execution_count": 76,
   "id": "2edfe655",
   "metadata": {},
   "outputs": [
    {
     "data": {
      "image/png": "[encoded data removed]",
      "text/plain": [
       "<Figure size 432x288 with 1 Axes>"
      ]
     },
     "metadata": {
      "needs_background": "light"
     },
     "output_type": "display_data"
    }
   ],
   "source": [
    "# Create the bar for each distributor and stack together\n",
    "plt.bar(df3['YEAR'], df3['WARNER BROS'], edgecolor = 'white', width = 0.85)\n",
    "plt.bar(df3['YEAR'], df3['WALT DISNEY'], bottom = df3['WARNER BROS'], edgecolor = 'white', width = 0.85)\n",
    "plt.bar(df3['YEAR'], df3['20TH CENTURY FOX'], bottom = df3['WARNER BROS'] + df3['WALT DISNEY'], edgecolor = 'white', width = 0.85)\n",
    "plt.bar(df3['YEAR'], df3['PARAMOUNT PICTURES'], bottom = df3['WARNER BROS'] + df3['WALT DISNEY'] + df3['20TH CENTURY FOX'], edgecolor = 'white', width = 0.85)\n",
    "plt.bar(df3['YEAR'], df3['SONY PICTURES'], bottom = df3['WARNER BROS'] + df3['WALT DISNEY'] + df3['20TH CENTURY FOX'] + df3['PARAMOUNT PICTURES'], edgecolor = 'white', width = 0.85)\n",
    "plt.bar(df3['YEAR'], df3['UNIVERSAL'], bottom = df3['WARNER BROS'] + df3['WALT DISNEY'] + df3['20TH CENTURY FOX'] + df3['PARAMOUNT PICTURES'] + df3['SONY PICTURES'], edgecolor = 'white', width = 0.85)\n",
    "plt.bar(df3['YEAR'], df3['TOTAL OTHER STUDIOS'], bottom = df3['WARNER BROS'] + df3['WALT DISNEY'] + df3['20TH CENTURY FOX'] + df3['PARAMOUNT PICTURES'] + df3['SONY PICTURES'] + df3['UNIVERSAL'], edgecolor = 'white', width = 0.85)\n",
    "# Custom x axis\n",
    "plt.xlabel(\"YEAR\")\n",
    "# Custom y axis limit\n",
    "plt.ylim(0, 100)\n",
    "# Add a legend\n",
    "plt.legend(listWideRelease,loc = 'upper left', bbox_to_anchor = (1,1))\n",
    "# Show the graph\n",
    "plt.show()"
   ]
  },
  {
   "cell_type": "markdown",
   "id": "e9cd62d4",
   "metadata": {},
   "source": [
    "Here's some trend about the amount of wide-release movie from different distributor. These six major distributor shared almost 80% of the wide-release movie started from 1995 and keeping increasing til 2002. Especially, Warner bros, walt disney and Sony Pictures. After that, their portion was reduced due to the raising of other studios and more cinema may ask for playing their movie. Another explanation is that the six major distributor reduce the production as well."
   ]
  },
  {
   "cell_type": "markdown",
   "id": "a77e4058",
   "metadata": {},
   "source": [
    "##### Exploration on ranking data set"
   ]
  },
  {
   "cell_type": "markdown",
   "id": "af098c37",
   "metadata": {},
   "source": [
    "Now, we can go ahead for the remaining dataset that about the ranking. I think it is possible to check with some correlation and some distribution for top ranking type/ method."
   ]
  },
  {
   "cell_type": "code",
   "execution_count": 77,
   "id": "dc407a36",
   "metadata": {},
   "outputs": [],
   "source": [
    "from sklearn.preprocessing import OrdinalEncoder"
   ]
  },
  {
   "cell_type": "code",
   "execution_count": null,
   "id": "58a07fe8",
   "metadata": {},
   "outputs": [],
   "source": []
  },
  {
   "cell_type": "code",
   "execution_count": null,
   "id": "5e24aeda",
   "metadata": {},
   "outputs": [],
   "source": []
  }
 ],
 "metadata": {
  "kernelspec": {
   "display_name": "Python [conda env:sklearn-env] *",
   "language": "python",
   "name": "conda-env-sklearn-env-py"
  },
  "language_info": {
   "codemirror_mode": {
    "name": "ipython",
    "version": 3
   },
   "file_extension": ".py",
   "mimetype": "text/x-python",
   "name": "python",
   "nbconvert_exporter": "python",
   "pygments_lexer": "ipython3",
   "version": "3.9.7"
  }
 },
 "nbformat": 4,
 "nbformat_minor": 5
}
